{
  "nbformat": 4,
  "nbformat_minor": 0,
  "metadata": {
    "kernelspec": {
      "display_name": "Python 3",
      "language": "python",
      "name": "python3"
    },
    "language_info": {
      "codemirror_mode": {
        "name": "ipython",
        "version": 3
      },
      "file_extension": ".py",
      "mimetype": "text/x-python",
      "name": "python",
      "nbconvert_exporter": "python",
      "pygments_lexer": "ipython3",
      "version": "3.7.6"
    },
    "colab": {
      "name": "Store_CNN_Data.ipynb",
      "provenance": [],
      "collapsed_sections": []
    }
  },
  "cells": [
    {
      "cell_type": "code",
      "metadata": {
        "colab": {
          "base_uri": "https://localhost:8080/"
        },
        "id": "r9XMQJYZYlbH",
        "outputId": "1033541e-70df-4811-eccd-1ec405723a35"
      },
      "source": [
        "from google.colab import drive\r\n",
        "drive.mount('/content/gdrive')"
      ],
      "execution_count": null,
      "outputs": [
        {
          "output_type": "stream",
          "text": [
            "Drive already mounted at /content/gdrive; to attempt to forcibly remount, call drive.mount(\"/content/gdrive\", force_remount=True).\n"
          ],
          "name": "stdout"
        }
      ]
    },
    {
      "cell_type": "code",
      "metadata": {
        "colab": {
          "base_uri": "https://localhost:8080/"
        },
        "id": "p9BZFA1OYyYM",
        "outputId": "49375be4-ddc6-4f06-f666-32075ff4218e"
      },
      "source": [
        "%cd '/content/gdrive/MyDrive/Conference_CNN'\r\n",
        "! ls"
      ],
      "execution_count": null,
      "outputs": [
        {
          "output_type": "stream",
          "text": [
            "/content/gdrive/MyDrive/Conference_CNN\n",
            " Database\t\t       Store_CNN_Data.ipynb\n",
            " Data-Extraction.ipynb\t      'train accuracy.png'\n",
            " Feature_extraction_01.ipynb   train_accuracy.png\n",
            " Feature_extraction_02.ipynb  'valid accuracy.png'\n",
            " Feature_extraction_03.ipynb   valid_accuracy.png\n"
          ],
          "name": "stdout"
        }
      ]
    },
    {
      "cell_type": "code",
      "metadata": {
        "scrolled": true,
        "id": "HAT4YCSLWvvw"
      },
      "source": [
        "import cv2\n",
        "import numpy as np\n",
        "import pandas as pd\n",
        "import sklearn\n",
        "from random import randint\n",
        "import matplotlib.pyplot as plt\n",
        "import os\n",
        "import SimpleITK as sitk\n",
        "import h5py\n",
        "from skimage.transform import resize, rescale\n",
        "from os import listdir\n",
        "from os.path import isfile, join\n",
        "from sklearn.model_selection import StratifiedKFold"
      ],
      "execution_count": null,
      "outputs": []
    },
    {
      "cell_type": "code",
      "metadata": {
        "colab": {
          "base_uri": "https://localhost:8080/"
        },
        "id": "jyKkxoALZRqe",
        "outputId": "a08f4105-a282-49e0-f477-3da750fd83ac"
      },
      "source": [
        "pip install SimpleITK"
      ],
      "execution_count": null,
      "outputs": [
        {
          "output_type": "stream",
          "text": [
            "Requirement already satisfied: SimpleITK in /usr/local/lib/python3.6/dist-packages (2.0.2)\n"
          ],
          "name": "stdout"
        }
      ]
    },
    {
      "cell_type": "code",
      "metadata": {
        "scrolled": true,
        "id": "YP67UZ4LWvv-"
      },
      "source": [
        "mypath1 = '/content/gdrive/MyDrive/Conference_CNN/Database/test/light/'\n",
        "output_path = '/content/gdrive/MyDrive/Conference_CNN/Database/test/light1/'\n",
        "files1 = [f for f in listdir(mypath1) if isfile(join(mypath1, f))]\n",
        "\n",
        "##Read Input Image\n",
        "for fname1 in sorted(files1):\n",
        "    try:\n",
        "        itk_image = cv2.imread(mypath1+fname1)\n",
        "        image = np.asarray(itk_image)\n",
        "        image = resize(image, (224,224), preserve_range= np.int16, order=1)\n",
        "\n",
        "        image =np.asarray(image)\n",
        "        cv2.imwrite(output_path+\"{}\".format(fname1), image)\n",
        "            \n",
        "    except RuntimeError:\n",
        "        pass"
      ],
      "execution_count": null,
      "outputs": []
    }
  ]
}