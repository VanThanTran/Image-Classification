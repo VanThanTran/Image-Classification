{
  "nbformat": 4,
  "nbformat_minor": 0,
  "metadata": {
    "colab": {
      "name": "Feature_extraction_03.ipynb",
      "provenance": [],
      "collapsed_sections": []
    },
    "kernelspec": {
      "name": "python3",
      "display_name": "Python 3"
    },
    "accelerator": "GPU"
  },
  "cells": [
    {
      "cell_type": "markdown",
      "metadata": {
        "id": "BZyVDIjSAfmC"
      },
      "source": [
        "**References:**\r\n",
        "\r\n",
        "1. https://keras.io/api/applications/\r\n",
        "2. https://keras.io/guides/transfer_learning/"
      ]
    },
    {
      "cell_type": "code",
      "metadata": {
        "colab": {
          "base_uri": "https://localhost:8080/"
        },
        "id": "RTTlbczRfH-a",
        "outputId": "dc930330-14b3-488e-86ac-9d242e166933"
      },
      "source": [
        "!nvidia-smi"
      ],
      "execution_count": 56,
      "outputs": [
        {
          "output_type": "stream",
          "text": [
            "Mon Feb 15 15:27:15 2021       \n",
            "+-----------------------------------------------------------------------------+\n",
            "| NVIDIA-SMI 460.39       Driver Version: 460.32.03    CUDA Version: 11.2     |\n",
            "|-------------------------------+----------------------+----------------------+\n",
            "| GPU  Name        Persistence-M| Bus-Id        Disp.A | Volatile Uncorr. ECC |\n",
            "| Fan  Temp  Perf  Pwr:Usage/Cap|         Memory-Usage | GPU-Util  Compute M. |\n",
            "|                               |                      |               MIG M. |\n",
            "|===============================+======================+======================|\n",
            "|   0  Tesla K80           Off  | 00000000:00:04.0 Off |                    0 |\n",
            "| N/A   53C    P0    60W / 149W |   4407MiB / 11441MiB |      0%      Default |\n",
            "|                               |                      |                  N/A |\n",
            "+-------------------------------+----------------------+----------------------+\n",
            "                                                                               \n",
            "+-----------------------------------------------------------------------------+\n",
            "| Processes:                                                                  |\n",
            "|  GPU   GI   CI        PID   Type   Process name                  GPU Memory |\n",
            "|        ID   ID                                                   Usage      |\n",
            "|=============================================================================|\n",
            "+-----------------------------------------------------------------------------+\n"
          ],
          "name": "stdout"
        }
      ]
    },
    {
      "cell_type": "markdown",
      "metadata": {
        "id": "fiekGKK4fM4i"
      },
      "source": [
        "P100"
      ]
    },
    {
      "cell_type": "code",
      "metadata": {
        "colab": {
          "base_uri": "https://localhost:8080/"
        },
        "id": "FyCz0iFB0SjH",
        "outputId": "2f51c318-7c47-4a20-818f-a840265cebae"
      },
      "source": [
        "from google.colab import drive\n",
        "drive.mount('/content/gdrive')"
      ],
      "execution_count": 57,
      "outputs": [
        {
          "output_type": "stream",
          "text": [
            "Drive already mounted at /content/gdrive; to attempt to forcibly remount, call drive.mount(\"/content/gdrive\", force_remount=True).\n"
          ],
          "name": "stdout"
        }
      ]
    },
    {
      "cell_type": "code",
      "metadata": {
        "id": "ZRapTj3ohzUB"
      },
      "source": [
        "%cd '/content/gdrive/MyDrive/Journal_paper'\r\n",
        "! ls"
      ],
      "execution_count": null,
      "outputs": []
    },
    {
      "cell_type": "code",
      "metadata": {
        "colab": {
          "base_uri": "https://localhost:8080/"
        },
        "id": "_UcEbmnbqXf_",
        "outputId": "7c7a90b8-fbe9-49ea-8e6f-c6ac66395210"
      },
      "source": [
        "pip install tensorflow-addons"
      ],
      "execution_count": 59,
      "outputs": [
        {
          "output_type": "stream",
          "text": [
            "Requirement already satisfied: tensorflow-addons in /usr/local/lib/python3.6/dist-packages (0.12.1)\n",
            "Requirement already satisfied: typeguard>=2.7 in /usr/local/lib/python3.6/dist-packages (from tensorflow-addons) (2.7.1)\n"
          ],
          "name": "stdout"
        }
      ]
    },
    {
      "cell_type": "code",
      "metadata": {
        "id": "hO8Jknle1FMT"
      },
      "source": [
        "# import the basic libraries\n",
        "import numpy as np\n",
        "import tensorflow as tf \n",
        "import tensorflow_addons as tfa\n",
        "from tensorflow import keras\n",
        "import matplotlib.pyplot as plt\n",
        "from keras.models import Model, Sequential\n",
        "from keras.layers import Input, Dense, Activation, Flatten, Reshape, ReLU\n",
        "from keras.layers import Conv2D, MaxPooling2D, BatchNormalization, Dropout\n",
        "from keras.layers import Concatenate, Lambda, add\n",
        "from keras.optimizers import Adam, RMSprop\n",
        "from keras.preprocessing import image\n",
        "from keras.preprocessing.image import ImageDataGenerator\n",
        "from tensorflow.keras import layers, regularizers, optimizers\n",
        "from glob import glob"
      ],
      "execution_count": 60,
      "outputs": []
    },
    {
      "cell_type": "markdown",
      "metadata": {
        "id": "Hm31L6PTAwcI"
      },
      "source": [
        "**Self-built architecture**"
      ]
    },
    {
      "cell_type": "markdown",
      "metadata": {
        "id": "OEm9sJGoziHz"
      },
      "source": [
        "**1. Model 1**"
      ]
    },
    {
      "cell_type": "code",
      "metadata": {
        "id": "Jv2B8fUKt-wm",
        "colab": {
          "base_uri": "https://localhost:8080/"
        },
        "outputId": "dcbce081-7ab4-44c6-af55-82db382098c1"
      },
      "source": [
        "# model\r\n",
        "weight_decay = 1e-5\r\n",
        "\r\n",
        "def TVT_1():\r\n",
        "    model = Sequential()\r\n",
        "\r\n",
        "    # Block 1\r\n",
        "    model.add(Conv2D(32, 3, padding = 'same', strides = 1, kernel_initializer='he_normal', kernel_regularizer=regularizers.l1_l2(weight_decay, weight_decay), input_shape=(224,224, 3)))\r\n",
        "    model.add(BatchNormalization())\r\n",
        "    model.add(tfa.layers.InstanceNormalization())\r\n",
        "    model.add(Activation('relu')) \r\n",
        "    model.add(MaxPooling2D()) \r\n",
        "\r\n",
        "    # Block 2\r\n",
        "    model.add(Conv2D(64, 3, padding = 'same', strides = 1, kernel_initializer='he_normal', kernel_regularizer=regularizers.l1_l2(weight_decay, weight_decay)))\r\n",
        "    model.add(BatchNormalization())\r\n",
        "    model.add(tfa.layers.InstanceNormalization())\r\n",
        "    model.add(Activation('relu'))\r\n",
        "    model.add(MaxPooling2D())  \r\n",
        "     \r\n",
        "    # FCLs\r\n",
        "    model.add(Flatten())\r\n",
        "    model.add(Dense(3, activation='softmax'))\r\n",
        "\r\n",
        "    return model\r\n",
        "\r\n",
        "model1 = TVT_1()\r\n",
        "model1.summary()"
      ],
      "execution_count": 62,
      "outputs": [
        {
          "output_type": "stream",
          "text": [
            "Model: \"sequential_7\"\n",
            "_________________________________________________________________\n",
            "Layer (type)                 Output Shape              Param #   \n",
            "=================================================================\n",
            "conv2d_32 (Conv2D)           (None, 224, 224, 32)      896       \n",
            "_________________________________________________________________\n",
            "batch_normalization_32 (Batc (None, 224, 224, 32)      128       \n",
            "_________________________________________________________________\n",
            "instance_normalization_32 (I (None, 224, 224, 32)      64        \n",
            "_________________________________________________________________\n",
            "activation_32 (Activation)   (None, 224, 224, 32)      0         \n",
            "_________________________________________________________________\n",
            "max_pooling2d_17 (MaxPooling (None, 112, 112, 32)      0         \n",
            "_________________________________________________________________\n",
            "conv2d_33 (Conv2D)           (None, 112, 112, 64)      18496     \n",
            "_________________________________________________________________\n",
            "batch_normalization_33 (Batc (None, 112, 112, 64)      256       \n",
            "_________________________________________________________________\n",
            "instance_normalization_33 (I (None, 112, 112, 64)      128       \n",
            "_________________________________________________________________\n",
            "activation_33 (Activation)   (None, 112, 112, 64)      0         \n",
            "_________________________________________________________________\n",
            "max_pooling2d_18 (MaxPooling (None, 56, 56, 64)        0         \n",
            "_________________________________________________________________\n",
            "flatten_7 (Flatten)          (None, 200704)            0         \n",
            "_________________________________________________________________\n",
            "dense_7 (Dense)              (None, 3)                 602115    \n",
            "=================================================================\n",
            "Total params: 622,083\n",
            "Trainable params: 621,891\n",
            "Non-trainable params: 192\n",
            "_________________________________________________________________\n"
          ],
          "name": "stdout"
        }
      ]
    },
    {
      "cell_type": "code",
      "metadata": {
        "id": "0jBRm-QO5U67"
      },
      "source": [
        "train_path = '/content/gdrive/MyDrive/Journal_paper/Database/train'\r\n",
        "valid_path = '/content/gdrive/MyDrive/Journal_paper/Database/valid'\r\n",
        "test_path = '/content/gdrive/MyDrive/Journal_paper/Database/test'"
      ],
      "execution_count": 63,
      "outputs": []
    },
    {
      "cell_type": "code",
      "metadata": {
        "id": "sWLt44bg5tvp"
      },
      "source": [
        "# tell the model what cost and optimization method to use\r\n",
        "model1.compile(\r\n",
        "  loss='categorical_crossentropy',\r\n",
        "  optimizer='adam',\r\n",
        "  metrics=['accuracy']\r\n",
        ")"
      ],
      "execution_count": 64,
      "outputs": []
    },
    {
      "cell_type": "code",
      "metadata": {
        "colab": {
          "base_uri": "https://localhost:8080/"
        },
        "id": "QRrWhrii5udI",
        "outputId": "e62e43fd-788c-4795-e206-6f6c451fb952"
      },
      "source": [
        "# Add our data-augmentation parameters to ImageDataGenerator\r\n",
        "train_datagen = ImageDataGenerator(rescale = 1./255,\r\n",
        "                                   shear_range = 0.2,\r\n",
        "                                   zoom_range = 0.2,\r\n",
        "                                   horizontal_flip = True)\r\n",
        "\r\n",
        "valid_datagen = ImageDataGenerator(rescale = 1./255)\r\n",
        "test_datagen = ImageDataGenerator(rescale = 1./255)\r\n",
        "\r\n",
        "# Flow training images in batches of 64 using train_datagen generator\r\n",
        "training_set = train_datagen.flow_from_directory(train_path,\r\n",
        "                                                 target_size = (224, 224),\r\n",
        "                                                 batch_size = 32,\r\n",
        "                                                 class_mode = 'categorical')\r\n",
        "\r\n",
        "valid_set = valid_datagen.flow_from_directory(valid_path,\r\n",
        "                                                 target_size = (224, 224),\r\n",
        "                                                 batch_size = 32,\r\n",
        "                                                 class_mode = 'categorical')\r\n",
        "\r\n",
        "test_set = test_datagen.flow_from_directory(test_path,\r\n",
        "                                            target_size = (224, 224),\r\n",
        "                                            batch_size = 32,\r\n",
        "                                            class_mode = 'categorical')"
      ],
      "execution_count": 65,
      "outputs": [
        {
          "output_type": "stream",
          "text": [
            "Found 840 images belonging to 3 classes.\n",
            "Found 180 images belonging to 3 classes.\n",
            "Found 180 images belonging to 3 classes.\n"
          ],
          "name": "stdout"
        }
      ]
    },
    {
      "cell_type": "code",
      "metadata": {
        "id": "mhPXgHXYyVz6"
      },
      "source": [
        "# training\r\n",
        "batch_size = 32\r\n",
        "epochs = 50\r\n",
        "steps = len(training_set) // batch_size\r\n",
        "\r\n",
        "boundaries = [steps*15, steps*30]\r\n",
        "values = [0.0001, 0.00005, 0.00001]\r\n",
        "schedules = keras.optimizers.schedules.PiecewiseConstantDecay(boundaries, values)\r\n",
        "opt_adam  = keras.optimizers.Adam(learning_rate=schedules)"
      ],
      "execution_count": 66,
      "outputs": []
    },
    {
      "cell_type": "code",
      "metadata": {
        "id": "bQZnX9P65zxl",
        "colab": {
          "base_uri": "https://localhost:8080/"
        },
        "outputId": "0b926f78-2074-4ce3-f14f-82e94f2eaaa0"
      },
      "source": [
        "# fit the model\r\n",
        "tvt1 = model1.fit(\r\n",
        "  training_set,\r\n",
        "  validation_data=valid_set,\r\n",
        "  epochs=50,\r\n",
        "  steps_per_epoch=len(training_set),\r\n",
        "  validation_steps=len(valid_set)\r\n",
        ")"
      ],
      "execution_count": 67,
      "outputs": [
        {
          "output_type": "stream",
          "text": [
            "Epoch 1/50\n",
            "27/27 [==============================] - 16s 532ms/step - loss: 47.6629 - accuracy: 0.3174 - val_loss: 4.8710 - val_accuracy: 0.5444\n",
            "Epoch 2/50\n",
            "27/27 [==============================] - 14s 519ms/step - loss: 4.0328 - accuracy: 0.6770 - val_loss: 0.4337 - val_accuracy: 0.9333\n",
            "Epoch 3/50\n",
            "27/27 [==============================] - 14s 519ms/step - loss: 1.6268 - accuracy: 0.8165 - val_loss: 0.6549 - val_accuracy: 0.8722\n",
            "Epoch 4/50\n",
            "27/27 [==============================] - 14s 515ms/step - loss: 1.3837 - accuracy: 0.8386 - val_loss: 0.6814 - val_accuracy: 0.8722\n",
            "Epoch 5/50\n",
            "27/27 [==============================] - 14s 519ms/step - loss: 0.8489 - accuracy: 0.8852 - val_loss: 0.1476 - val_accuracy: 0.9889\n",
            "Epoch 6/50\n",
            "27/27 [==============================] - 14s 519ms/step - loss: 0.6015 - accuracy: 0.9018 - val_loss: 0.2418 - val_accuracy: 0.9722\n",
            "Epoch 7/50\n",
            "27/27 [==============================] - 14s 518ms/step - loss: 0.6775 - accuracy: 0.9044 - val_loss: 0.1387 - val_accuracy: 0.9667\n",
            "Epoch 8/50\n",
            "27/27 [==============================] - 14s 519ms/step - loss: 0.4383 - accuracy: 0.9330 - val_loss: 0.0625 - val_accuracy: 0.9944\n",
            "Epoch 9/50\n",
            "27/27 [==============================] - 14s 518ms/step - loss: 0.6851 - accuracy: 0.8999 - val_loss: 0.6253 - val_accuracy: 0.8667\n",
            "Epoch 10/50\n",
            "27/27 [==============================] - 14s 519ms/step - loss: 1.2177 - accuracy: 0.8425 - val_loss: 0.8294 - val_accuracy: 0.8889\n",
            "Epoch 11/50\n",
            "27/27 [==============================] - 14s 518ms/step - loss: 1.0212 - accuracy: 0.8660 - val_loss: 0.2101 - val_accuracy: 0.9556\n",
            "Epoch 12/50\n",
            "27/27 [==============================] - 14s 516ms/step - loss: 0.4463 - accuracy: 0.9219 - val_loss: 0.1757 - val_accuracy: 0.9556\n",
            "Epoch 13/50\n",
            "27/27 [==============================] - 14s 520ms/step - loss: 0.2780 - accuracy: 0.9651 - val_loss: 0.0731 - val_accuracy: 0.9889\n",
            "Epoch 14/50\n",
            "27/27 [==============================] - 14s 514ms/step - loss: 0.2457 - accuracy: 0.9580 - val_loss: 0.2668 - val_accuracy: 0.9556\n",
            "Epoch 15/50\n",
            "27/27 [==============================] - 14s 516ms/step - loss: 0.3023 - accuracy: 0.9454 - val_loss: 0.1065 - val_accuracy: 0.9833\n",
            "Epoch 16/50\n",
            "27/27 [==============================] - 14s 516ms/step - loss: 0.3376 - accuracy: 0.9306 - val_loss: 0.1386 - val_accuracy: 0.9778\n",
            "Epoch 17/50\n",
            "27/27 [==============================] - 14s 515ms/step - loss: 0.3091 - accuracy: 0.9577 - val_loss: 0.0378 - val_accuracy: 0.9944\n",
            "Epoch 18/50\n",
            "27/27 [==============================] - 14s 531ms/step - loss: 0.1418 - accuracy: 0.9762 - val_loss: 0.0315 - val_accuracy: 0.9889\n",
            "Epoch 19/50\n",
            "27/27 [==============================] - 14s 516ms/step - loss: 0.2228 - accuracy: 0.9640 - val_loss: 0.2186 - val_accuracy: 0.9778\n",
            "Epoch 20/50\n",
            "27/27 [==============================] - 14s 515ms/step - loss: 0.3562 - accuracy: 0.9319 - val_loss: 0.0740 - val_accuracy: 0.9833\n",
            "Epoch 21/50\n",
            "27/27 [==============================] - 14s 515ms/step - loss: 0.7609 - accuracy: 0.9082 - val_loss: 0.0170 - val_accuracy: 1.0000\n",
            "Epoch 22/50\n",
            "27/27 [==============================] - 14s 511ms/step - loss: 0.1520 - accuracy: 0.9722 - val_loss: 0.0185 - val_accuracy: 1.0000\n",
            "Epoch 23/50\n",
            "27/27 [==============================] - 14s 513ms/step - loss: 0.3101 - accuracy: 0.9553 - val_loss: 0.0172 - val_accuracy: 1.0000\n",
            "Epoch 24/50\n",
            "27/27 [==============================] - 14s 513ms/step - loss: 0.0858 - accuracy: 0.9794 - val_loss: 0.0164 - val_accuracy: 1.0000\n",
            "Epoch 25/50\n",
            "27/27 [==============================] - 14s 514ms/step - loss: 0.0958 - accuracy: 0.9868 - val_loss: 0.0413 - val_accuracy: 0.9944\n",
            "Epoch 26/50\n",
            "27/27 [==============================] - 14s 515ms/step - loss: 0.3169 - accuracy: 0.9528 - val_loss: 0.0164 - val_accuracy: 1.0000\n",
            "Epoch 27/50\n",
            "27/27 [==============================] - 14s 516ms/step - loss: 0.0691 - accuracy: 0.9848 - val_loss: 0.0393 - val_accuracy: 0.9889\n",
            "Epoch 28/50\n",
            "27/27 [==============================] - 14s 533ms/step - loss: 0.3061 - accuracy: 0.9489 - val_loss: 0.2931 - val_accuracy: 0.9444\n",
            "Epoch 29/50\n",
            "27/27 [==============================] - 14s 516ms/step - loss: 0.2339 - accuracy: 0.9491 - val_loss: 0.0819 - val_accuracy: 0.9944\n",
            "Epoch 30/50\n",
            "27/27 [==============================] - 14s 516ms/step - loss: 0.2745 - accuracy: 0.9618 - val_loss: 0.0178 - val_accuracy: 1.0000\n",
            "Epoch 31/50\n",
            "27/27 [==============================] - 14s 517ms/step - loss: 0.0786 - accuracy: 0.9826 - val_loss: 0.0178 - val_accuracy: 1.0000\n",
            "Epoch 32/50\n",
            "27/27 [==============================] - 14s 522ms/step - loss: 0.2540 - accuracy: 0.9591 - val_loss: 0.0393 - val_accuracy: 0.9944\n",
            "Epoch 33/50\n",
            "27/27 [==============================] - 14s 517ms/step - loss: 0.3583 - accuracy: 0.9577 - val_loss: 0.0164 - val_accuracy: 1.0000\n",
            "Epoch 34/50\n",
            "27/27 [==============================] - 14s 519ms/step - loss: 0.0613 - accuracy: 0.9877 - val_loss: 0.0164 - val_accuracy: 1.0000\n",
            "Epoch 35/50\n",
            "27/27 [==============================] - 14s 514ms/step - loss: 0.0416 - accuracy: 0.9883 - val_loss: 0.0164 - val_accuracy: 1.0000\n",
            "Epoch 36/50\n",
            "27/27 [==============================] - 14s 519ms/step - loss: 0.1995 - accuracy: 0.9625 - val_loss: 0.0980 - val_accuracy: 0.9833\n",
            "Epoch 37/50\n",
            "27/27 [==============================] - 14s 516ms/step - loss: 0.1253 - accuracy: 0.9773 - val_loss: 0.0190 - val_accuracy: 1.0000\n",
            "Epoch 38/50\n",
            "27/27 [==============================] - 14s 507ms/step - loss: 0.1052 - accuracy: 0.9790 - val_loss: 0.0165 - val_accuracy: 1.0000\n",
            "Epoch 39/50\n",
            "27/27 [==============================] - 14s 519ms/step - loss: 0.0565 - accuracy: 0.9913 - val_loss: 0.0165 - val_accuracy: 1.0000\n",
            "Epoch 40/50\n",
            "27/27 [==============================] - 15s 536ms/step - loss: 0.0970 - accuracy: 0.9787 - val_loss: 0.0166 - val_accuracy: 1.0000\n",
            "Epoch 41/50\n",
            "27/27 [==============================] - 14s 509ms/step - loss: 0.0926 - accuracy: 0.9808 - val_loss: 0.0967 - val_accuracy: 0.9722\n",
            "Epoch 42/50\n",
            "27/27 [==============================] - 14s 518ms/step - loss: 0.3299 - accuracy: 0.9346 - val_loss: 0.6191 - val_accuracy: 0.8778\n",
            "Epoch 43/50\n",
            "27/27 [==============================] - 14s 517ms/step - loss: 0.4072 - accuracy: 0.9385 - val_loss: 0.0189 - val_accuracy: 1.0000\n",
            "Epoch 44/50\n",
            "27/27 [==============================] - 14s 513ms/step - loss: 0.1527 - accuracy: 0.9810 - val_loss: 0.0583 - val_accuracy: 0.9889\n",
            "Epoch 45/50\n",
            "27/27 [==============================] - 14s 535ms/step - loss: 0.1207 - accuracy: 0.9760 - val_loss: 0.0670 - val_accuracy: 0.9889\n",
            "Epoch 46/50\n",
            "27/27 [==============================] - 14s 518ms/step - loss: 0.1251 - accuracy: 0.9836 - val_loss: 0.0165 - val_accuracy: 1.0000\n",
            "Epoch 47/50\n",
            "27/27 [==============================] - 14s 514ms/step - loss: 0.0689 - accuracy: 0.9894 - val_loss: 0.0165 - val_accuracy: 1.0000\n",
            "Epoch 48/50\n",
            "27/27 [==============================] - 14s 518ms/step - loss: 0.0770 - accuracy: 0.9849 - val_loss: 0.0165 - val_accuracy: 1.0000\n",
            "Epoch 49/50\n",
            "27/27 [==============================] - 14s 519ms/step - loss: 0.0954 - accuracy: 0.9847 - val_loss: 0.0165 - val_accuracy: 1.0000\n",
            "Epoch 50/50\n",
            "27/27 [==============================] - 14s 513ms/step - loss: 0.0495 - accuracy: 0.9920 - val_loss: 0.0165 - val_accuracy: 1.0000\n"
          ],
          "name": "stdout"
        }
      ]
    },
    {
      "cell_type": "code",
      "metadata": {
        "id": "SsuHhh1254dB",
        "colab": {
          "base_uri": "https://localhost:8080/"
        },
        "outputId": "1b477fc6-84ad-42cd-efde-7e5ee79ef77c"
      },
      "source": [
        "# testing\r\n",
        "score = model1.evaluate(test_set, verbose=0)\r\n",
        "print(f'Test loss: {score[0]:.4f}')\r\n",
        "print(f'Test accuracy: {score[1]:.4f}')"
      ],
      "execution_count": 68,
      "outputs": [
        {
          "output_type": "stream",
          "text": [
            "Test loss: 0.0242\n",
            "Test accuracy: 0.9944\n"
          ],
          "name": "stdout"
        }
      ]
    },
    {
      "cell_type": "code",
      "metadata": {
        "id": "U5M5aW985-b5",
        "colab": {
          "base_uri": "https://localhost:8080/",
          "height": 295
        },
        "outputId": "79553be4-960f-4dfa-97bf-8c3b6467ae05"
      },
      "source": [
        "# loss\r\n",
        "fig, axes = plt.subplots(1, 1, figsize=(7, 4))\r\n",
        "plt.plot(tvt1.history['loss'], label='train loss')\r\n",
        "plt.plot(tvt1.history['val_loss'], label='val loss')\r\n",
        "plt.title(label = 'Loss', fontsize = 12, color = \"black\")\r\n",
        "plt.xlabel('Epoch')\r\n",
        "plt.ylabel('Loss')\r\n",
        "plt.legend()\r\n",
        "plt.show()\r\n",
        "fig.savefig('loss_model1')"
      ],
      "execution_count": 71,
      "outputs": [
        {
          "output_type": "display_data",
          "data": {
            "image/png": "[encoded data removed]",
            "text/plain": [
              "<Figure size 504x288 with 1 Axes>"
            ]
          },
          "metadata": {
            "tags": [],
            "needs_background": "light"
          }
        }
      ]
    },
    {
      "cell_type": "code",
      "metadata": {
        "id": "bOqRt7j16C5c",
        "colab": {
          "base_uri": "https://localhost:8080/",
          "height": 295
        },
        "outputId": "a66520cf-4c11-4bc7-9713-2fe3bf13b7af"
      },
      "source": [
        "# accuracy\r\n",
        "fig, axes = plt.subplots(1, 1, figsize=(7, 4))\r\n",
        "plt.plot(tvt1.history['accuracy'], label='train accuracy')\r\n",
        "plt.plot(tvt1.history['val_accuracy'], label='val accuracy')\r\n",
        "plt.title(label = 'Accuracy', fontsize = 12, color = \"black\")\r\n",
        "plt.xlabel('Epoch')\r\n",
        "plt.ylabel('Accuracy')\r\n",
        "plt.legend()\r\n",
        "plt.show()\r\n",
        "fig.savefig('acc_model1')"
      ],
      "execution_count": 74,
      "outputs": [
        {
          "output_type": "display_data",
          "data": {
            "image/png": "[encoded data removed]",
            "text/plain": [
              "<Figure size 504x288 with 1 Axes>"
            ]
          },
          "metadata": {
            "tags": [],
            "needs_background": "light"
          }
        }
      ]
    },
    {
      "cell_type": "markdown",
      "metadata": {
        "id": "gNZqo-29952C"
      },
      "source": [
        "**2. Model 2**"
      ]
    },
    {
      "cell_type": "code",
      "metadata": {
        "colab": {
          "base_uri": "https://localhost:8080/"
        },
        "id": "TY8WZ4cS98FG",
        "outputId": "688910b9-1ced-4405-a223-0904dc4d717a"
      },
      "source": [
        "# model\r\n",
        "weight_decay = 1e-5\r\n",
        "\r\n",
        "def TVT_2():\r\n",
        "    model = Sequential()\r\n",
        "\r\n",
        "    # Block 1\r\n",
        "    model.add(Conv2D(32, 3, padding = 'same', strides = 1, kernel_initializer='he_normal', kernel_regularizer=regularizers.l1_l2(weight_decay, weight_decay), input_shape=(224,224, 3)))\r\n",
        "    model.add(BatchNormalization())\r\n",
        "    model.add(tfa.layers.InstanceNormalization())\r\n",
        "    model.add(Activation('relu')) \r\n",
        "    model.add(Conv2D(32, 3, padding = 'same', strides = 1, kernel_initializer='he_normal', kernel_regularizer=regularizers.l1_l2(weight_decay, weight_decay)))\r\n",
        "    model.add(BatchNormalization())\r\n",
        "    model.add(tfa.layers.InstanceNormalization())\r\n",
        "    model.add(Activation('relu'))     \r\n",
        "    model.add(MaxPooling2D()) \r\n",
        "\r\n",
        "    # Block 2\r\n",
        "    model.add(Conv2D(64, 3, padding = 'same', strides = 1, kernel_initializer='he_normal', kernel_regularizer=regularizers.l1_l2(weight_decay, weight_decay)))\r\n",
        "    model.add(BatchNormalization())\r\n",
        "    model.add(tfa.layers.InstanceNormalization())\r\n",
        "    model.add(Activation('relu'))\r\n",
        "    model.add(Conv2D(64, 3, padding = 'same', strides = 1, kernel_initializer='he_normal', kernel_regularizer=regularizers.l1_l2(weight_decay, weight_decay)))\r\n",
        "    model.add(BatchNormalization())\r\n",
        "    model.add(tfa.layers.InstanceNormalization())\r\n",
        "    model.add(Activation('relu'))    \r\n",
        "    model.add(MaxPooling2D())  \r\n",
        "     \r\n",
        "    # FCLs\r\n",
        "    model.add(Flatten())\r\n",
        "    model.add(Dense(3, activation='softmax'))\r\n",
        "\r\n",
        "    return model\r\n",
        "\r\n",
        "model2 = TVT_2()\r\n",
        "model2.summary()"
      ],
      "execution_count": 75,
      "outputs": [
        {
          "output_type": "stream",
          "text": [
            "Model: \"sequential_8\"\n",
            "_________________________________________________________________\n",
            "Layer (type)                 Output Shape              Param #   \n",
            "=================================================================\n",
            "conv2d_34 (Conv2D)           (None, 224, 224, 32)      896       \n",
            "_________________________________________________________________\n",
            "batch_normalization_34 (Batc (None, 224, 224, 32)      128       \n",
            "_________________________________________________________________\n",
            "instance_normalization_34 (I (None, 224, 224, 32)      64        \n",
            "_________________________________________________________________\n",
            "activation_34 (Activation)   (None, 224, 224, 32)      0         \n",
            "_________________________________________________________________\n",
            "conv2d_35 (Conv2D)           (None, 224, 224, 32)      9248      \n",
            "_________________________________________________________________\n",
            "batch_normalization_35 (Batc (None, 224, 224, 32)      128       \n",
            "_________________________________________________________________\n",
            "instance_normalization_35 (I (None, 224, 224, 32)      64        \n",
            "_________________________________________________________________\n",
            "activation_35 (Activation)   (None, 224, 224, 32)      0         \n",
            "_________________________________________________________________\n",
            "max_pooling2d_19 (MaxPooling (None, 112, 112, 32)      0         \n",
            "_________________________________________________________________\n",
            "conv2d_36 (Conv2D)           (None, 112, 112, 64)      18496     \n",
            "_________________________________________________________________\n",
            "batch_normalization_36 (Batc (None, 112, 112, 64)      256       \n",
            "_________________________________________________________________\n",
            "instance_normalization_36 (I (None, 112, 112, 64)      128       \n",
            "_________________________________________________________________\n",
            "activation_36 (Activation)   (None, 112, 112, 64)      0         \n",
            "_________________________________________________________________\n",
            "conv2d_37 (Conv2D)           (None, 112, 112, 64)      36928     \n",
            "_________________________________________________________________\n",
            "batch_normalization_37 (Batc (None, 112, 112, 64)      256       \n",
            "_________________________________________________________________\n",
            "instance_normalization_37 (I (None, 112, 112, 64)      128       \n",
            "_________________________________________________________________\n",
            "activation_37 (Activation)   (None, 112, 112, 64)      0         \n",
            "_________________________________________________________________\n",
            "max_pooling2d_20 (MaxPooling (None, 56, 56, 64)        0         \n",
            "_________________________________________________________________\n",
            "flatten_8 (Flatten)          (None, 200704)            0         \n",
            "_________________________________________________________________\n",
            "dense_8 (Dense)              (None, 3)                 602115    \n",
            "=================================================================\n",
            "Total params: 668,835\n",
            "Trainable params: 668,451\n",
            "Non-trainable params: 384\n",
            "_________________________________________________________________\n"
          ],
          "name": "stdout"
        }
      ]
    },
    {
      "cell_type": "code",
      "metadata": {
        "id": "6xbWxTxY-Zr7"
      },
      "source": [
        "train_path = '/content/gdrive/MyDrive/Journal_paper/Database/train'\r\n",
        "valid_path = '/content/gdrive/MyDrive/Journal_paper/Database/valid'\r\n",
        "test_path = '/content/gdrive/MyDrive/Journal_paper/Database/test'"
      ],
      "execution_count": 76,
      "outputs": []
    },
    {
      "cell_type": "code",
      "metadata": {
        "id": "vhqZftou-i7n"
      },
      "source": [
        "# tell the model what cost and optimization method to use\r\n",
        "model2.compile(\r\n",
        "  loss='categorical_crossentropy',\r\n",
        "  optimizer='adam',\r\n",
        "  metrics=['accuracy']\r\n",
        ")"
      ],
      "execution_count": 77,
      "outputs": []
    },
    {
      "cell_type": "code",
      "metadata": {
        "colab": {
          "base_uri": "https://localhost:8080/"
        },
        "id": "Ho1cpg_8-qA0",
        "outputId": "98a8dc35-05b4-4df1-d11e-e01b466b130a"
      },
      "source": [
        "# Add our data-augmentation parameters to ImageDataGenerator\r\n",
        "train_datagen = ImageDataGenerator(rescale = 1./255,\r\n",
        "                                   shear_range = 0.2,\r\n",
        "                                   zoom_range = 0.2,\r\n",
        "                                   horizontal_flip = True)\r\n",
        "\r\n",
        "valid_datagen = ImageDataGenerator(rescale = 1./255)\r\n",
        "test_datagen = ImageDataGenerator(rescale = 1./255)\r\n",
        "\r\n",
        "# Flow training images in batches of 64 using train_datagen generator\r\n",
        "training_set = train_datagen.flow_from_directory(train_path,\r\n",
        "                                                 target_size = (224, 224),\r\n",
        "                                                 batch_size = 32,\r\n",
        "                                                 class_mode = 'categorical')\r\n",
        "\r\n",
        "valid_set = valid_datagen.flow_from_directory(valid_path,\r\n",
        "                                                 target_size = (224, 224),\r\n",
        "                                                 batch_size = 32,\r\n",
        "                                                 class_mode = 'categorical')\r\n",
        "\r\n",
        "test_set = test_datagen.flow_from_directory(test_path,\r\n",
        "                                            target_size = (224, 224),\r\n",
        "                                            batch_size = 32,\r\n",
        "                                            class_mode = 'categorical')"
      ],
      "execution_count": 78,
      "outputs": [
        {
          "output_type": "stream",
          "text": [
            "Found 840 images belonging to 3 classes.\n",
            "Found 180 images belonging to 3 classes.\n",
            "Found 180 images belonging to 3 classes.\n"
          ],
          "name": "stdout"
        }
      ]
    },
    {
      "cell_type": "code",
      "metadata": {
        "id": "WahADWV2-wlj"
      },
      "source": [
        "# training\r\n",
        "batch_size = 32\r\n",
        "epochs = 50\r\n",
        "steps = len(training_set) // batch_size\r\n",
        "\r\n",
        "boundaries = [steps*15, steps*30]\r\n",
        "values = [0.0001, 0.00005, 0.00001]\r\n",
        "schedules = keras.optimizers.schedules.PiecewiseConstantDecay(boundaries, values)\r\n",
        "opt_adam  = keras.optimizers.Adam(learning_rate=schedules)"
      ],
      "execution_count": 79,
      "outputs": []
    },
    {
      "cell_type": "code",
      "metadata": {
        "colab": {
          "base_uri": "https://localhost:8080/"
        },
        "id": "S5QzRcGZ-1dv",
        "outputId": "2ab0859d-b5aa-418d-c80f-975fdc26268b"
      },
      "source": [
        "# fit the model\r\n",
        "tvt2 = model2.fit(\r\n",
        "  training_set,\r\n",
        "  validation_data=valid_set,\r\n",
        "  epochs=50,\r\n",
        "  steps_per_epoch=len(training_set),\r\n",
        "  validation_steps=len(valid_set)\r\n",
        ")"
      ],
      "execution_count": 80,
      "outputs": [
        {
          "output_type": "stream",
          "text": [
            "Epoch 1/50\n",
            "27/27 [==============================] - 19s 623ms/step - loss: 44.5110 - accuracy: 0.3349 - val_loss: 5.9107 - val_accuracy: 0.3333\n",
            "Epoch 2/50\n",
            "27/27 [==============================] - 17s 615ms/step - loss: 2.1823 - accuracy: 0.6276 - val_loss: 0.7405 - val_accuracy: 0.8444\n",
            "Epoch 3/50\n",
            "27/27 [==============================] - 17s 603ms/step - loss: 1.0202 - accuracy: 0.7984 - val_loss: 0.2301 - val_accuracy: 0.9667\n",
            "Epoch 4/50\n",
            "27/27 [==============================] - 17s 605ms/step - loss: 0.3649 - accuracy: 0.9079 - val_loss: 0.1396 - val_accuracy: 0.9778\n",
            "Epoch 5/50\n",
            "27/27 [==============================] - 17s 604ms/step - loss: 0.4511 - accuracy: 0.8972 - val_loss: 0.4897 - val_accuracy: 0.8778\n",
            "Epoch 6/50\n",
            "27/27 [==============================] - 16s 625ms/step - loss: 0.4668 - accuracy: 0.8694 - val_loss: 1.4040 - val_accuracy: 0.8056\n",
            "Epoch 7/50\n",
            "27/27 [==============================] - 17s 608ms/step - loss: 0.8739 - accuracy: 0.8704 - val_loss: 0.1344 - val_accuracy: 0.9833\n",
            "Epoch 8/50\n",
            "27/27 [==============================] - 17s 609ms/step - loss: 0.2014 - accuracy: 0.9541 - val_loss: 0.0755 - val_accuracy: 0.9889\n",
            "Epoch 9/50\n",
            "27/27 [==============================] - 16s 623ms/step - loss: 0.2187 - accuracy: 0.9511 - val_loss: 0.0778 - val_accuracy: 0.9833\n",
            "Epoch 10/50\n",
            "27/27 [==============================] - 17s 603ms/step - loss: 0.4824 - accuracy: 0.8989 - val_loss: 0.1308 - val_accuracy: 0.9833\n",
            "Epoch 11/50\n",
            "27/27 [==============================] - 17s 603ms/step - loss: 0.2282 - accuracy: 0.9510 - val_loss: 0.1213 - val_accuracy: 0.9833\n",
            "Epoch 12/50\n",
            "27/27 [==============================] - 16s 601ms/step - loss: 0.3487 - accuracy: 0.9320 - val_loss: 0.0433 - val_accuracy: 1.0000\n",
            "Epoch 13/50\n",
            "27/27 [==============================] - 17s 605ms/step - loss: 0.2568 - accuracy: 0.9493 - val_loss: 0.0621 - val_accuracy: 0.9889\n",
            "Epoch 14/50\n",
            "27/27 [==============================] - 17s 605ms/step - loss: 0.1751 - accuracy: 0.9616 - val_loss: 0.0840 - val_accuracy: 0.9833\n",
            "Epoch 15/50\n",
            "27/27 [==============================] - 17s 604ms/step - loss: 0.3200 - accuracy: 0.9345 - val_loss: 0.0713 - val_accuracy: 0.9944\n",
            "Epoch 16/50\n",
            "27/27 [==============================] - 17s 613ms/step - loss: 0.2710 - accuracy: 0.9508 - val_loss: 0.0655 - val_accuracy: 0.9889\n",
            "Epoch 17/50\n",
            "27/27 [==============================] - 17s 603ms/step - loss: 0.1694 - accuracy: 0.9628 - val_loss: 0.0447 - val_accuracy: 1.0000\n",
            "Epoch 18/50\n",
            "27/27 [==============================] - 17s 604ms/step - loss: 0.1816 - accuracy: 0.9567 - val_loss: 0.0960 - val_accuracy: 0.9833\n",
            "Epoch 19/50\n",
            "27/27 [==============================] - 17s 604ms/step - loss: 0.3170 - accuracy: 0.9306 - val_loss: 0.1019 - val_accuracy: 0.9889\n",
            "Epoch 20/50\n",
            "27/27 [==============================] - 16s 620ms/step - loss: 0.3498 - accuracy: 0.9254 - val_loss: 0.0520 - val_accuracy: 0.9944\n",
            "Epoch 21/50\n",
            "27/27 [==============================] - 17s 602ms/step - loss: 0.4472 - accuracy: 0.9281 - val_loss: 0.1811 - val_accuracy: 0.9667\n",
            "Epoch 22/50\n",
            "27/27 [==============================] - 17s 607ms/step - loss: 0.4075 - accuracy: 0.9581 - val_loss: 0.0454 - val_accuracy: 1.0000\n",
            "Epoch 23/50\n",
            "27/27 [==============================] - 16s 602ms/step - loss: 0.2519 - accuracy: 0.9667 - val_loss: 0.0460 - val_accuracy: 1.0000\n",
            "Epoch 24/50\n",
            "27/27 [==============================] - 17s 606ms/step - loss: 0.2036 - accuracy: 0.9723 - val_loss: 0.0739 - val_accuracy: 0.9889\n",
            "Epoch 25/50\n",
            "27/27 [==============================] - 17s 604ms/step - loss: 0.2205 - accuracy: 0.9746 - val_loss: 0.0429 - val_accuracy: 1.0000\n",
            "Epoch 26/50\n",
            "27/27 [==============================] - 17s 603ms/step - loss: 0.1631 - accuracy: 0.9746 - val_loss: 0.0427 - val_accuracy: 1.0000\n",
            "Epoch 27/50\n",
            "27/27 [==============================] - 17s 605ms/step - loss: 0.0833 - accuracy: 0.9839 - val_loss: 0.0595 - val_accuracy: 0.9944\n",
            "Epoch 28/50\n",
            "27/27 [==============================] - 17s 605ms/step - loss: 0.1150 - accuracy: 0.9759 - val_loss: 0.0428 - val_accuracy: 1.0000\n",
            "Epoch 29/50\n",
            "27/27 [==============================] - 17s 603ms/step - loss: 0.1062 - accuracy: 0.9899 - val_loss: 0.0434 - val_accuracy: 1.0000\n",
            "Epoch 30/50\n",
            "27/27 [==============================] - 17s 604ms/step - loss: 0.0986 - accuracy: 0.9850 - val_loss: 0.0648 - val_accuracy: 0.9889\n",
            "Epoch 31/50\n",
            "27/27 [==============================] - 17s 604ms/step - loss: 0.1221 - accuracy: 0.9854 - val_loss: 0.0427 - val_accuracy: 1.0000\n",
            "Epoch 32/50\n",
            "27/27 [==============================] - 17s 606ms/step - loss: 0.0739 - accuracy: 0.9887 - val_loss: 0.0503 - val_accuracy: 0.9944\n",
            "Epoch 33/50\n",
            "27/27 [==============================] - 16s 601ms/step - loss: 0.1757 - accuracy: 0.9640 - val_loss: 0.0431 - val_accuracy: 1.0000\n",
            "Epoch 34/50\n",
            "27/27 [==============================] - 17s 607ms/step - loss: 0.1363 - accuracy: 0.9736 - val_loss: 0.0945 - val_accuracy: 0.9889\n",
            "Epoch 35/50\n",
            "27/27 [==============================] - 17s 613ms/step - loss: 0.1193 - accuracy: 0.9866 - val_loss: 0.3681 - val_accuracy: 0.9444\n",
            "Epoch 36/50\n",
            "27/27 [==============================] - 17s 603ms/step - loss: 0.4459 - accuracy: 0.9473 - val_loss: 0.2075 - val_accuracy: 0.9722\n",
            "Epoch 37/50\n",
            "27/27 [==============================] - 17s 607ms/step - loss: 0.2642 - accuracy: 0.9609 - val_loss: 0.4220 - val_accuracy: 0.9222\n",
            "Epoch 38/50\n",
            "27/27 [==============================] - 17s 603ms/step - loss: 0.2480 - accuracy: 0.9675 - val_loss: 0.1360 - val_accuracy: 0.9889\n",
            "Epoch 39/50\n",
            "27/27 [==============================] - 17s 604ms/step - loss: 0.1177 - accuracy: 0.9813 - val_loss: 0.0430 - val_accuracy: 1.0000\n",
            "Epoch 40/50\n",
            "27/27 [==============================] - 17s 605ms/step - loss: 0.1106 - accuracy: 0.9831 - val_loss: 0.0651 - val_accuracy: 0.9944\n",
            "Epoch 41/50\n",
            "27/27 [==============================] - 16s 601ms/step - loss: 0.0638 - accuracy: 0.9922 - val_loss: 0.0673 - val_accuracy: 0.9944\n",
            "Epoch 42/50\n",
            "27/27 [==============================] - 16s 600ms/step - loss: 0.0986 - accuracy: 0.9899 - val_loss: 0.0538 - val_accuracy: 0.9944\n",
            "Epoch 43/50\n",
            "27/27 [==============================] - 16s 602ms/step - loss: 0.0855 - accuracy: 0.9898 - val_loss: 0.2638 - val_accuracy: 0.9556\n",
            "Epoch 44/50\n",
            "27/27 [==============================] - 16s 599ms/step - loss: 0.2060 - accuracy: 0.9705 - val_loss: 0.0510 - val_accuracy: 0.9944\n",
            "Epoch 45/50\n",
            "27/27 [==============================] - 16s 600ms/step - loss: 0.0940 - accuracy: 0.9879 - val_loss: 0.0926 - val_accuracy: 0.9944\n",
            "Epoch 46/50\n",
            "27/27 [==============================] - 16s 599ms/step - loss: 0.0702 - accuracy: 0.9941 - val_loss: 0.0456 - val_accuracy: 1.0000\n",
            "Epoch 47/50\n",
            "27/27 [==============================] - 17s 603ms/step - loss: 0.0537 - accuracy: 0.9965 - val_loss: 0.1261 - val_accuracy: 0.9944\n",
            "Epoch 48/50\n",
            "27/27 [==============================] - 17s 603ms/step - loss: 0.0879 - accuracy: 0.9887 - val_loss: 0.0468 - val_accuracy: 0.9944\n",
            "Epoch 49/50\n",
            "27/27 [==============================] - 17s 604ms/step - loss: 0.0563 - accuracy: 0.9974 - val_loss: 0.0429 - val_accuracy: 1.0000\n",
            "Epoch 50/50\n",
            "27/27 [==============================] - 16s 601ms/step - loss: 0.0957 - accuracy: 0.9844 - val_loss: 0.0430 - val_accuracy: 1.0000\n"
          ],
          "name": "stdout"
        }
      ]
    },
    {
      "cell_type": "code",
      "metadata": {
        "colab": {
          "base_uri": "https://localhost:8080/"
        },
        "id": "fUDTFqPr-7yt",
        "outputId": "1a463061-bb7f-463d-b776-943f737b8aa9"
      },
      "source": [
        "# testing\r\n",
        "score = model2.evaluate(test_set, verbose=0)\r\n",
        "print(f'Test loss: {score[0]:.4f}')\r\n",
        "print(f'Test accuracy: {score[1]:.4f}')"
      ],
      "execution_count": 81,
      "outputs": [
        {
          "output_type": "stream",
          "text": [
            "Test loss: 0.0447\n",
            "Test accuracy: 1.0000\n"
          ],
          "name": "stdout"
        }
      ]
    },
    {
      "cell_type": "code",
      "metadata": {
        "colab": {
          "base_uri": "https://localhost:8080/",
          "height": 295
        },
        "id": "EIOVm5OD_BHL",
        "outputId": "a216354e-d30e-4e5f-aef2-8f2fa16b54cd"
      },
      "source": [
        "# loss\r\n",
        "fig, axes = plt.subplots(1, 1, figsize=(7, 4))\r\n",
        "plt.plot(tvt2.history['loss'], label='train loss')\r\n",
        "plt.plot(tvt2.history['val_loss'], label='val loss')\r\n",
        "plt.title(label = 'Loss', fontsize = 12, color = \"black\")\r\n",
        "plt.xlabel('Epoch')\r\n",
        "plt.ylabel('Loss')\r\n",
        "plt.legend()\r\n",
        "plt.show()\r\n",
        "fig.savefig('loss_model2')"
      ],
      "execution_count": 83,
      "outputs": [
        {
          "output_type": "display_data",
          "data": {
            "image/png": "[encoded data removed]",
            "text/plain": [
              "<Figure size 504x288 with 1 Axes>"
            ]
          },
          "metadata": {
            "tags": [],
            "needs_background": "light"
          }
        }
      ]
    },
    {
      "cell_type": "code",
      "metadata": {
        "colab": {
          "base_uri": "https://localhost:8080/",
          "height": 295
        },
        "id": "vdBUO0BZ_LFy",
        "outputId": "1a4f5d6d-a8ed-4b07-996a-27bbfa4881f6"
      },
      "source": [
        "# accuracy\r\n",
        "fig, axes = plt.subplots(1, 1, figsize=(7, 4))\r\n",
        "plt.plot(tvt2.history['accuracy'], label='train accuracy')\r\n",
        "plt.plot(tvt2.history['val_accuracy'], label='val accuracy')\r\n",
        "plt.title(label = 'Accuracy', fontsize = 12, color = \"black\")\r\n",
        "plt.xlabel('Epoch')\r\n",
        "plt.ylabel('Accuracy')\r\n",
        "plt.legend()\r\n",
        "plt.show()\r\n",
        "fig.savefig('acc_model2')"
      ],
      "execution_count": 85,
      "outputs": [
        {
          "output_type": "display_data",
          "data": {
            "image/png": "[encoded data removed]",
            "text/plain": [
              "<Figure size 504x288 with 1 Axes>"
            ]
          },
          "metadata": {
            "tags": [],
            "needs_background": "light"
          }
        }
      ]
    },
    {
      "cell_type": "markdown",
      "metadata": {
        "id": "ExyHZ9IbAqNI"
      },
      "source": [
        "**3. Model 3**"
      ]
    },
    {
      "cell_type": "code",
      "metadata": {
        "colab": {
          "base_uri": "https://localhost:8080/"
        },
        "id": "uaosidJ3Asd0",
        "outputId": "15d7275b-65c1-42f0-afa5-fa6d5492ac40"
      },
      "source": [
        "# model\r\n",
        "weight_decay = 1e-5\r\n",
        "\r\n",
        "def TVT_3():\r\n",
        "    model = Sequential()\r\n",
        "\r\n",
        "    # Block 1\r\n",
        "    model.add(Conv2D(32, 3, padding = 'same', strides = 1, kernel_initializer='he_normal', kernel_regularizer=regularizers.l1_l2(weight_decay, weight_decay), input_shape=(224,224, 3)))\r\n",
        "    model.add(BatchNormalization())\r\n",
        "    model.add(tfa.layers.InstanceNormalization())\r\n",
        "    model.add(Activation('relu')) \r\n",
        "    model.add(Conv2D(32, 3, padding = 'same', strides = 1, kernel_initializer='he_normal', kernel_regularizer=regularizers.l1_l2(weight_decay, weight_decay)))\r\n",
        "    model.add(BatchNormalization())\r\n",
        "    model.add(tfa.layers.InstanceNormalization())\r\n",
        "    model.add(Activation('relu')) \r\n",
        "    model.add(Conv2D(32, 3, padding = 'same', strides = 1, kernel_initializer='he_normal', kernel_regularizer=regularizers.l1_l2(weight_decay, weight_decay)))\r\n",
        "    model.add(BatchNormalization())\r\n",
        "    model.add(tfa.layers.InstanceNormalization())\r\n",
        "    model.add(Activation('relu'))     \r\n",
        "    model.add(MaxPooling2D()) \r\n",
        "\r\n",
        "    # Block 2\r\n",
        "    model.add(Conv2D(64, 3, padding = 'same', strides = 1, kernel_initializer='he_normal', kernel_regularizer=regularizers.l1_l2(weight_decay, weight_decay)))\r\n",
        "    model.add(BatchNormalization())\r\n",
        "    model.add(tfa.layers.InstanceNormalization())\r\n",
        "    model.add(Activation('relu'))\r\n",
        "    model.add(Conv2D(64, 3, padding = 'same', strides = 1, kernel_initializer='he_normal', kernel_regularizer=regularizers.l1_l2(weight_decay, weight_decay)))\r\n",
        "    model.add(BatchNormalization())\r\n",
        "    model.add(tfa.layers.InstanceNormalization())\r\n",
        "    model.add(Activation('relu'))\r\n",
        "    model.add(Conv2D(64, 3, padding = 'same', strides = 1, kernel_initializer='he_normal', kernel_regularizer=regularizers.l1_l2(weight_decay, weight_decay)))\r\n",
        "    model.add(BatchNormalization())\r\n",
        "    model.add(tfa.layers.InstanceNormalization())\r\n",
        "    model.add(Activation('relu'))    \r\n",
        "    model.add(MaxPooling2D())  \r\n",
        "     \r\n",
        "    # FCLs\r\n",
        "    model.add(Flatten())\r\n",
        "    model.add(Dense(3, activation='softmax'))\r\n",
        "\r\n",
        "    return model\r\n",
        "\r\n",
        "model3 = TVT_3()\r\n",
        "model3.summary()"
      ],
      "execution_count": 87,
      "outputs": [
        {
          "output_type": "stream",
          "text": [
            "Model: \"sequential_10\"\n",
            "_________________________________________________________________\n",
            "Layer (type)                 Output Shape              Param #   \n",
            "=================================================================\n",
            "conv2d_44 (Conv2D)           (None, 224, 224, 32)      896       \n",
            "_________________________________________________________________\n",
            "batch_normalization_44 (Batc (None, 224, 224, 32)      128       \n",
            "_________________________________________________________________\n",
            "instance_normalization_44 (I (None, 224, 224, 32)      64        \n",
            "_________________________________________________________________\n",
            "activation_44 (Activation)   (None, 224, 224, 32)      0         \n",
            "_________________________________________________________________\n",
            "conv2d_45 (Conv2D)           (None, 224, 224, 32)      9248      \n",
            "_________________________________________________________________\n",
            "batch_normalization_45 (Batc (None, 224, 224, 32)      128       \n",
            "_________________________________________________________________\n",
            "instance_normalization_45 (I (None, 224, 224, 32)      64        \n",
            "_________________________________________________________________\n",
            "activation_45 (Activation)   (None, 224, 224, 32)      0         \n",
            "_________________________________________________________________\n",
            "conv2d_46 (Conv2D)           (None, 224, 224, 32)      9248      \n",
            "_________________________________________________________________\n",
            "batch_normalization_46 (Batc (None, 224, 224, 32)      128       \n",
            "_________________________________________________________________\n",
            "instance_normalization_46 (I (None, 224, 224, 32)      64        \n",
            "_________________________________________________________________\n",
            "activation_46 (Activation)   (None, 224, 224, 32)      0         \n",
            "_________________________________________________________________\n",
            "max_pooling2d_23 (MaxPooling (None, 112, 112, 32)      0         \n",
            "_________________________________________________________________\n",
            "conv2d_47 (Conv2D)           (None, 112, 112, 64)      18496     \n",
            "_________________________________________________________________\n",
            "batch_normalization_47 (Batc (None, 112, 112, 64)      256       \n",
            "_________________________________________________________________\n",
            "instance_normalization_47 (I (None, 112, 112, 64)      128       \n",
            "_________________________________________________________________\n",
            "activation_47 (Activation)   (None, 112, 112, 64)      0         \n",
            "_________________________________________________________________\n",
            "conv2d_48 (Conv2D)           (None, 112, 112, 64)      36928     \n",
            "_________________________________________________________________\n",
            "batch_normalization_48 (Batc (None, 112, 112, 64)      256       \n",
            "_________________________________________________________________\n",
            "instance_normalization_48 (I (None, 112, 112, 64)      128       \n",
            "_________________________________________________________________\n",
            "activation_48 (Activation)   (None, 112, 112, 64)      0         \n",
            "_________________________________________________________________\n",
            "conv2d_49 (Conv2D)           (None, 112, 112, 64)      36928     \n",
            "_________________________________________________________________\n",
            "batch_normalization_49 (Batc (None, 112, 112, 64)      256       \n",
            "_________________________________________________________________\n",
            "instance_normalization_49 (I (None, 112, 112, 64)      128       \n",
            "_________________________________________________________________\n",
            "activation_49 (Activation)   (None, 112, 112, 64)      0         \n",
            "_________________________________________________________________\n",
            "max_pooling2d_24 (MaxPooling (None, 56, 56, 64)        0         \n",
            "_________________________________________________________________\n",
            "flatten_10 (Flatten)         (None, 200704)            0         \n",
            "_________________________________________________________________\n",
            "dense_10 (Dense)             (None, 3)                 602115    \n",
            "=================================================================\n",
            "Total params: 715,587\n",
            "Trainable params: 715,011\n",
            "Non-trainable params: 576\n",
            "_________________________________________________________________\n"
          ],
          "name": "stdout"
        }
      ]
    },
    {
      "cell_type": "code",
      "metadata": {
        "id": "wu9Pi8n-A8g2"
      },
      "source": [
        "train_path = '/content/gdrive/MyDrive/Journal_paper/Database/train'\r\n",
        "valid_path = '/content/gdrive/MyDrive/Journal_paper/Database/valid'\r\n",
        "test_path = '/content/gdrive/MyDrive/Journal_paper/Database/test'"
      ],
      "execution_count": 88,
      "outputs": []
    },
    {
      "cell_type": "code",
      "metadata": {
        "id": "ooBT1jPkBCFM"
      },
      "source": [
        "# tell the model what cost and optimization method to use\r\n",
        "model3.compile(\r\n",
        "  loss='categorical_crossentropy',\r\n",
        "  optimizer='adam',\r\n",
        "  metrics=['accuracy']\r\n",
        ")"
      ],
      "execution_count": 89,
      "outputs": []
    },
    {
      "cell_type": "code",
      "metadata": {
        "colab": {
          "base_uri": "https://localhost:8080/"
        },
        "id": "zOm45jmaBI8w",
        "outputId": "88eda866-47f3-4e25-8b24-ff85c196ca16"
      },
      "source": [
        "# Add our data-augmentation parameters to ImageDataGenerator\r\n",
        "train_datagen = ImageDataGenerator(rescale = 1./255,\r\n",
        "                                   shear_range = 0.2,\r\n",
        "                                   zoom_range = 0.2,\r\n",
        "                                   horizontal_flip = True)\r\n",
        "\r\n",
        "valid_datagen = ImageDataGenerator(rescale = 1./255)\r\n",
        "test_datagen = ImageDataGenerator(rescale = 1./255)\r\n",
        "\r\n",
        "# Flow training images in batches of 64 using train_datagen generator\r\n",
        "training_set = train_datagen.flow_from_directory(train_path,\r\n",
        "                                                 target_size = (224, 224),\r\n",
        "                                                 batch_size = 32,\r\n",
        "                                                 class_mode = 'categorical')\r\n",
        "\r\n",
        "valid_set = valid_datagen.flow_from_directory(valid_path,\r\n",
        "                                                 target_size = (224, 224),\r\n",
        "                                                 batch_size = 32,\r\n",
        "                                                 class_mode = 'categorical')\r\n",
        "\r\n",
        "test_set = test_datagen.flow_from_directory(test_path,\r\n",
        "                                            target_size = (224, 224),\r\n",
        "                                            batch_size = 32,\r\n",
        "                                            class_mode = 'categorical')"
      ],
      "execution_count": 90,
      "outputs": [
        {
          "output_type": "stream",
          "text": [
            "Found 840 images belonging to 3 classes.\n",
            "Found 180 images belonging to 3 classes.\n",
            "Found 180 images belonging to 3 classes.\n"
          ],
          "name": "stdout"
        }
      ]
    },
    {
      "cell_type": "code",
      "metadata": {
        "id": "Kh9802lrBN8B"
      },
      "source": [
        "# training\r\n",
        "batch_size = 32\r\n",
        "epochs = 50\r\n",
        "steps = len(training_set) // batch_size\r\n",
        "\r\n",
        "boundaries = [steps*15, steps*30]\r\n",
        "values = [0.0001, 0.00005, 0.00001]\r\n",
        "schedules = keras.optimizers.schedules.PiecewiseConstantDecay(boundaries, values)\r\n",
        "opt_adam  = keras.optimizers.Adam(learning_rate=schedules)"
      ],
      "execution_count": 91,
      "outputs": []
    },
    {
      "cell_type": "code",
      "metadata": {
        "colab": {
          "base_uri": "https://localhost:8080/"
        },
        "id": "7Hb5JSmBBTWI",
        "outputId": "432d5888-4978-4421-8870-960b58da9ad3"
      },
      "source": [
        "# fit the model\r\n",
        "tvt3 = model3.fit(\r\n",
        "  training_set,\r\n",
        "  validation_data=valid_set,\r\n",
        "  epochs=50,\r\n",
        "  steps_per_epoch=len(training_set),\r\n",
        "  validation_steps=len(valid_set)\r\n",
        ")"
      ],
      "execution_count": 92,
      "outputs": [
        {
          "output_type": "stream",
          "text": [
            "Epoch 1/50\n",
            "27/27 [==============================] - 23s 722ms/step - loss: 48.3850 - accuracy: 0.3243 - val_loss: 9.9537 - val_accuracy: 0.3333\n",
            "Epoch 2/50\n",
            "27/27 [==============================] - 19s 698ms/step - loss: 7.1764 - accuracy: 0.3156 - val_loss: 4.0301 - val_accuracy: 0.3333\n",
            "Epoch 3/50\n",
            "27/27 [==============================] - 19s 696ms/step - loss: 2.8662 - accuracy: 0.3304 - val_loss: 0.8894 - val_accuracy: 0.5333\n",
            "Epoch 4/50\n",
            "27/27 [==============================] - 19s 694ms/step - loss: 1.1164 - accuracy: 0.5791 - val_loss: 0.3417 - val_accuracy: 0.8833\n",
            "Epoch 5/50\n",
            "27/27 [==============================] - 19s 698ms/step - loss: 0.6083 - accuracy: 0.8113 - val_loss: 0.2142 - val_accuracy: 0.9500\n",
            "Epoch 6/50\n",
            "27/27 [==============================] - 19s 697ms/step - loss: 0.3286 - accuracy: 0.9181 - val_loss: 0.2809 - val_accuracy: 0.9167\n",
            "Epoch 7/50\n",
            "27/27 [==============================] - 19s 696ms/step - loss: 0.4751 - accuracy: 0.8723 - val_loss: 0.1692 - val_accuracy: 0.9667\n",
            "Epoch 8/50\n",
            "27/27 [==============================] - 19s 698ms/step - loss: 0.4573 - accuracy: 0.8854 - val_loss: 0.1939 - val_accuracy: 0.9556\n",
            "Epoch 9/50\n",
            "27/27 [==============================] - 19s 715ms/step - loss: 0.3122 - accuracy: 0.9108 - val_loss: 0.1130 - val_accuracy: 0.9833\n",
            "Epoch 10/50\n",
            "27/27 [==============================] - 19s 697ms/step - loss: 0.2525 - accuracy: 0.9289 - val_loss: 0.0986 - val_accuracy: 0.9889\n",
            "Epoch 11/50\n",
            "27/27 [==============================] - 19s 696ms/step - loss: 0.2414 - accuracy: 0.9470 - val_loss: 0.1238 - val_accuracy: 0.9889\n",
            "Epoch 12/50\n",
            "27/27 [==============================] - 19s 715ms/step - loss: 0.4377 - accuracy: 0.8898 - val_loss: 0.0835 - val_accuracy: 0.9889\n",
            "Epoch 13/50\n",
            "27/27 [==============================] - 19s 700ms/step - loss: 0.3895 - accuracy: 0.9246 - val_loss: 0.1821 - val_accuracy: 0.9556\n",
            "Epoch 14/50\n",
            "27/27 [==============================] - 19s 691ms/step - loss: 0.2486 - accuracy: 0.9566 - val_loss: 0.0993 - val_accuracy: 0.9889\n",
            "Epoch 15/50\n",
            "27/27 [==============================] - 19s 696ms/step - loss: 0.1520 - accuracy: 0.9655 - val_loss: 0.0798 - val_accuracy: 0.9944\n",
            "Epoch 16/50\n",
            "27/27 [==============================] - 19s 691ms/step - loss: 0.1293 - accuracy: 0.9704 - val_loss: 0.0823 - val_accuracy: 0.9944\n",
            "Epoch 17/50\n",
            "27/27 [==============================] - 19s 694ms/step - loss: 0.1907 - accuracy: 0.9633 - val_loss: 0.1169 - val_accuracy: 0.9944\n",
            "Epoch 18/50\n",
            "27/27 [==============================] - 19s 695ms/step - loss: 0.1339 - accuracy: 0.9858 - val_loss: 0.0941 - val_accuracy: 0.9889\n",
            "Epoch 19/50\n",
            "27/27 [==============================] - 19s 697ms/step - loss: 0.1597 - accuracy: 0.9730 - val_loss: 0.0821 - val_accuracy: 0.9944\n",
            "Epoch 20/50\n",
            "27/27 [==============================] - 19s 695ms/step - loss: 0.3235 - accuracy: 0.9379 - val_loss: 0.1284 - val_accuracy: 0.9944\n",
            "Epoch 21/50\n",
            "27/27 [==============================] - 19s 697ms/step - loss: 0.6669 - accuracy: 0.9065 - val_loss: 0.1754 - val_accuracy: 0.9778\n",
            "Epoch 22/50\n",
            "27/27 [==============================] - 19s 698ms/step - loss: 0.3651 - accuracy: 0.9378 - val_loss: 0.0825 - val_accuracy: 0.9944\n",
            "Epoch 23/50\n",
            "27/27 [==============================] - 19s 712ms/step - loss: 0.2374 - accuracy: 0.9432 - val_loss: 0.0994 - val_accuracy: 0.9944\n",
            "Epoch 24/50\n",
            "27/27 [==============================] - 19s 688ms/step - loss: 0.2226 - accuracy: 0.9639 - val_loss: 0.1717 - val_accuracy: 0.9889\n",
            "Epoch 25/50\n",
            "27/27 [==============================] - 19s 694ms/step - loss: 0.2214 - accuracy: 0.9649 - val_loss: 0.1053 - val_accuracy: 0.9889\n",
            "Epoch 26/50\n",
            "27/27 [==============================] - 19s 690ms/step - loss: 0.2458 - accuracy: 0.9641 - val_loss: 0.1400 - val_accuracy: 0.9944\n",
            "Epoch 27/50\n",
            "27/27 [==============================] - 19s 691ms/step - loss: 0.1259 - accuracy: 0.9764 - val_loss: 0.1444 - val_accuracy: 0.9944\n",
            "Epoch 28/50\n",
            "27/27 [==============================] - 19s 708ms/step - loss: 0.1378 - accuracy: 0.9800 - val_loss: 0.0736 - val_accuracy: 1.0000\n",
            "Epoch 29/50\n",
            "27/27 [==============================] - 19s 689ms/step - loss: 0.1542 - accuracy: 0.9703 - val_loss: 0.0784 - val_accuracy: 0.9944\n",
            "Epoch 30/50\n",
            "27/27 [==============================] - 19s 691ms/step - loss: 0.2220 - accuracy: 0.9628 - val_loss: 0.0881 - val_accuracy: 0.9944\n",
            "Epoch 31/50\n",
            "27/27 [==============================] - 19s 694ms/step - loss: 0.1745 - accuracy: 0.9756 - val_loss: 0.1249 - val_accuracy: 0.9722\n",
            "Epoch 32/50\n",
            "27/27 [==============================] - 19s 689ms/step - loss: 0.1807 - accuracy: 0.9651 - val_loss: 0.2269 - val_accuracy: 0.9667\n",
            "Epoch 33/50\n",
            "27/27 [==============================] - 19s 692ms/step - loss: 0.3245 - accuracy: 0.9424 - val_loss: 0.1465 - val_accuracy: 0.9889\n",
            "Epoch 34/50\n",
            "27/27 [==============================] - 19s 691ms/step - loss: 0.1869 - accuracy: 0.9750 - val_loss: 0.0968 - val_accuracy: 0.9944\n",
            "Epoch 35/50\n",
            "27/27 [==============================] - 19s 696ms/step - loss: 0.1500 - accuracy: 0.9708 - val_loss: 0.1724 - val_accuracy: 0.9944\n",
            "Epoch 36/50\n",
            "27/27 [==============================] - 19s 695ms/step - loss: 0.2456 - accuracy: 0.9734 - val_loss: 0.0712 - val_accuracy: 1.0000\n",
            "Epoch 37/50\n",
            "27/27 [==============================] - 19s 704ms/step - loss: 0.2469 - accuracy: 0.9613 - val_loss: 0.1621 - val_accuracy: 0.9944\n",
            "Epoch 38/50\n",
            "27/27 [==============================] - 19s 699ms/step - loss: 0.1167 - accuracy: 0.9830 - val_loss: 0.1644 - val_accuracy: 0.9944\n",
            "Epoch 39/50\n",
            "27/27 [==============================] - 19s 700ms/step - loss: 0.1341 - accuracy: 0.9802 - val_loss: 0.0699 - val_accuracy: 1.0000\n",
            "Epoch 40/50\n",
            "27/27 [==============================] - 19s 697ms/step - loss: 0.1325 - accuracy: 0.9828 - val_loss: 0.2463 - val_accuracy: 0.9889\n",
            "Epoch 41/50\n",
            "27/27 [==============================] - 19s 705ms/step - loss: 0.2078 - accuracy: 0.9696 - val_loss: 0.1117 - val_accuracy: 0.9889\n",
            "Epoch 42/50\n",
            "27/27 [==============================] - 19s 715ms/step - loss: 0.2217 - accuracy: 0.9751 - val_loss: 0.0899 - val_accuracy: 0.9944\n",
            "Epoch 43/50\n",
            "27/27 [==============================] - 19s 700ms/step - loss: 0.1713 - accuracy: 0.9721 - val_loss: 0.0723 - val_accuracy: 1.0000\n",
            "Epoch 44/50\n",
            "27/27 [==============================] - 19s 697ms/step - loss: 0.1862 - accuracy: 0.9705 - val_loss: 0.7156 - val_accuracy: 0.8944\n",
            "Epoch 45/50\n",
            "27/27 [==============================] - 19s 700ms/step - loss: 0.2913 - accuracy: 0.9695 - val_loss: 0.1401 - val_accuracy: 0.9944\n",
            "Epoch 46/50\n",
            "27/27 [==============================] - 19s 698ms/step - loss: 0.1263 - accuracy: 0.9865 - val_loss: 0.0691 - val_accuracy: 1.0000\n",
            "Epoch 47/50\n",
            "27/27 [==============================] - 19s 700ms/step - loss: 0.2271 - accuracy: 0.9790 - val_loss: 0.0688 - val_accuracy: 1.0000\n",
            "Epoch 48/50\n",
            "27/27 [==============================] - 19s 699ms/step - loss: 0.1425 - accuracy: 0.9861 - val_loss: 0.1133 - val_accuracy: 0.9944\n",
            "Epoch 49/50\n",
            "27/27 [==============================] - 19s 700ms/step - loss: 0.1386 - accuracy: 0.9807 - val_loss: 0.0861 - val_accuracy: 0.9944\n",
            "Epoch 50/50\n",
            "27/27 [==============================] - 19s 698ms/step - loss: 0.1257 - accuracy: 0.9807 - val_loss: 0.0690 - val_accuracy: 1.0000\n"
          ],
          "name": "stdout"
        }
      ]
    },
    {
      "cell_type": "code",
      "metadata": {
        "colab": {
          "base_uri": "https://localhost:8080/"
        },
        "id": "i3rceju-BZ6B",
        "outputId": "d1c4e65c-7923-4614-f29c-553179cceee2"
      },
      "source": [
        "# testing\r\n",
        "score = model3.evaluate(test_set, verbose=0)\r\n",
        "print(f'Test loss: {score[0]:.4f}')\r\n",
        "print(f'Test accuracy: {score[1]:.4f}')"
      ],
      "execution_count": 93,
      "outputs": [
        {
          "output_type": "stream",
          "text": [
            "Test loss: 0.1601\n",
            "Test accuracy: 0.9944\n"
          ],
          "name": "stdout"
        }
      ]
    },
    {
      "cell_type": "code",
      "metadata": {
        "colab": {
          "base_uri": "https://localhost:8080/",
          "height": 295
        },
        "id": "WprrlEwdBfSA",
        "outputId": "dedcca84-f175-4e46-b496-bf3a341fd2af"
      },
      "source": [
        "# loss\r\n",
        "fig, axes = plt.subplots(1, 1, figsize=(7, 4))\r\n",
        "plt.plot(tvt3.history['loss'], label='train loss')\r\n",
        "plt.plot(tvt3.history['val_loss'], label='val loss')\r\n",
        "plt.title(label = 'Loss', fontsize = 12, color = \"black\")\r\n",
        "plt.xlabel('Epoch')\r\n",
        "plt.ylabel('Loss')\r\n",
        "plt.legend()\r\n",
        "plt.show()\r\n",
        "fig.savefig('loss_model3')"
      ],
      "execution_count": 95,
      "outputs": [
        {
          "output_type": "display_data",
          "data": {
            "image/png": "[encoded data removed]",
            "text/plain": [
              "<Figure size 504x288 with 1 Axes>"
            ]
          },
          "metadata": {
            "tags": [],
            "needs_background": "light"
          }
        }
      ]
    },
    {
      "cell_type": "code",
      "metadata": {
        "colab": {
          "base_uri": "https://localhost:8080/",
          "height": 295
        },
        "id": "CxaM-6luBkdI",
        "outputId": "c50bdaaa-98a0-45fc-afc0-54f0b31b2bb8"
      },
      "source": [
        "# accuracy\r\n",
        "fig, axes = plt.subplots(1, 1, figsize=(7, 4))\r\n",
        "plt.plot(tvt3.history['accuracy'], label='train accuracy')\r\n",
        "plt.plot(tvt3.history['val_accuracy'], label='val accuracy')\r\n",
        "plt.title(label = 'Accuracy', fontsize = 12, color = \"black\")\r\n",
        "plt.xlabel('Epoch')\r\n",
        "plt.ylabel('Accuracy')\r\n",
        "plt.legend()\r\n",
        "plt.show()\r\n",
        "fig.savefig('acc_model3')"
      ],
      "execution_count": 97,
      "outputs": [
        {
          "output_type": "display_data",
          "data": {
            "image/png": "[encoded data removed]",
            "text/plain": [
              "<Figure size 504x288 with 1 Axes>"
            ]
          },
          "metadata": {
            "tags": [],
            "needs_background": "light"
          }
        }
      ]
    },
    {
      "cell_type": "markdown",
      "metadata": {
        "id": "7L7mQTVvBrOt"
      },
      "source": [
        "**4. Model 4**"
      ]
    },
    {
      "cell_type": "code",
      "metadata": {
        "colab": {
          "base_uri": "https://localhost:8080/"
        },
        "id": "tFwlba-7BuPk",
        "outputId": "5ef40a45-bc18-4eb5-d97e-3b0f7ae772ad"
      },
      "source": [
        "# model\r\n",
        "weight_decay = 1e-5\r\n",
        "\r\n",
        "def TVT_4():\r\n",
        "    model = Sequential()\r\n",
        "\r\n",
        "    # Block 1\r\n",
        "    model.add(Conv2D(32, 3, padding = 'same', strides = 1, kernel_initializer='he_normal', kernel_regularizer=regularizers.l1_l2(weight_decay, weight_decay), input_shape=(224,224, 3)))\r\n",
        "    model.add(BatchNormalization())\r\n",
        "    model.add(tfa.layers.InstanceNormalization())\r\n",
        "    model.add(Activation('relu')) \r\n",
        "    model.add(Conv2D(32, 3, padding = 'same', strides = 1, kernel_initializer='he_normal', kernel_regularizer=regularizers.l1_l2(weight_decay, weight_decay)))\r\n",
        "    model.add(BatchNormalization())\r\n",
        "    model.add(tfa.layers.InstanceNormalization())\r\n",
        "    model.add(Activation('relu'))     \r\n",
        "    model.add(MaxPooling2D()) \r\n",
        "\r\n",
        "    # Block 2\r\n",
        "    model.add(Conv2D(64, 3, padding = 'same', strides = 1, kernel_initializer='he_normal', kernel_regularizer=regularizers.l1_l2(weight_decay, weight_decay)))\r\n",
        "    model.add(BatchNormalization())\r\n",
        "    model.add(tfa.layers.InstanceNormalization())\r\n",
        "    model.add(Activation('relu'))\r\n",
        "    model.add(Conv2D(64, 3, padding = 'same', strides = 1, kernel_initializer='he_normal', kernel_regularizer=regularizers.l1_l2(weight_decay, weight_decay)))\r\n",
        "    model.add(BatchNormalization())\r\n",
        "    model.add(tfa.layers.InstanceNormalization())\r\n",
        "    model.add(Activation('relu'))    \r\n",
        "    model.add(MaxPooling2D())  \r\n",
        "\r\n",
        "    # Block 3\r\n",
        "    model.add(Conv2D(128, 3, padding = 'same', strides = 1, kernel_initializer='he_normal', kernel_regularizer=regularizers.l1_l2(weight_decay, weight_decay)))\r\n",
        "    model.add(BatchNormalization())\r\n",
        "    model.add(tfa.layers.InstanceNormalization())\r\n",
        "    model.add(Activation('relu'))\r\n",
        "    model.add(Conv2D(128, 3, padding = 'same', strides = 1, kernel_initializer='he_normal', kernel_regularizer=regularizers.l1_l2(weight_decay, weight_decay)))\r\n",
        "    model.add(BatchNormalization())\r\n",
        "    model.add(tfa.layers.InstanceNormalization())\r\n",
        "    model.add(Activation('relu'))    \r\n",
        "    model.add(MaxPooling2D())  \r\n",
        "     \r\n",
        "    # FCLs\r\n",
        "    model.add(Flatten())\r\n",
        "    model.add(Dense(3, activation='softmax'))\r\n",
        "\r\n",
        "    return model\r\n",
        "\r\n",
        "model4 = TVT_4()\r\n",
        "model4.summary()"
      ],
      "execution_count": 98,
      "outputs": [
        {
          "output_type": "stream",
          "text": [
            "Model: \"sequential_11\"\n",
            "_________________________________________________________________\n",
            "Layer (type)                 Output Shape              Param #   \n",
            "=================================================================\n",
            "conv2d_50 (Conv2D)           (None, 224, 224, 32)      896       \n",
            "_________________________________________________________________\n",
            "batch_normalization_50 (Batc (None, 224, 224, 32)      128       \n",
            "_________________________________________________________________\n",
            "instance_normalization_50 (I (None, 224, 224, 32)      64        \n",
            "_________________________________________________________________\n",
            "activation_50 (Activation)   (None, 224, 224, 32)      0         \n",
            "_________________________________________________________________\n",
            "conv2d_51 (Conv2D)           (None, 224, 224, 32)      9248      \n",
            "_________________________________________________________________\n",
            "batch_normalization_51 (Batc (None, 224, 224, 32)      128       \n",
            "_________________________________________________________________\n",
            "instance_normalization_51 (I (None, 224, 224, 32)      64        \n",
            "_________________________________________________________________\n",
            "activation_51 (Activation)   (None, 224, 224, 32)      0         \n",
            "_________________________________________________________________\n",
            "max_pooling2d_25 (MaxPooling (None, 112, 112, 32)      0         \n",
            "_________________________________________________________________\n",
            "conv2d_52 (Conv2D)           (None, 112, 112, 64)      18496     \n",
            "_________________________________________________________________\n",
            "batch_normalization_52 (Batc (None, 112, 112, 64)      256       \n",
            "_________________________________________________________________\n",
            "instance_normalization_52 (I (None, 112, 112, 64)      128       \n",
            "_________________________________________________________________\n",
            "activation_52 (Activation)   (None, 112, 112, 64)      0         \n",
            "_________________________________________________________________\n",
            "conv2d_53 (Conv2D)           (None, 112, 112, 64)      36928     \n",
            "_________________________________________________________________\n",
            "batch_normalization_53 (Batc (None, 112, 112, 64)      256       \n",
            "_________________________________________________________________\n",
            "instance_normalization_53 (I (None, 112, 112, 64)      128       \n",
            "_________________________________________________________________\n",
            "activation_53 (Activation)   (None, 112, 112, 64)      0         \n",
            "_________________________________________________________________\n",
            "max_pooling2d_26 (MaxPooling (None, 56, 56, 64)        0         \n",
            "_________________________________________________________________\n",
            "conv2d_54 (Conv2D)           (None, 56, 56, 128)       73856     \n",
            "_________________________________________________________________\n",
            "batch_normalization_54 (Batc (None, 56, 56, 128)       512       \n",
            "_________________________________________________________________\n",
            "instance_normalization_54 (I (None, 56, 56, 128)       256       \n",
            "_________________________________________________________________\n",
            "activation_54 (Activation)   (None, 56, 56, 128)       0         \n",
            "_________________________________________________________________\n",
            "conv2d_55 (Conv2D)           (None, 56, 56, 128)       147584    \n",
            "_________________________________________________________________\n",
            "batch_normalization_55 (Batc (None, 56, 56, 128)       512       \n",
            "_________________________________________________________________\n",
            "instance_normalization_55 (I (None, 56, 56, 128)       256       \n",
            "_________________________________________________________________\n",
            "activation_55 (Activation)   (None, 56, 56, 128)       0         \n",
            "_________________________________________________________________\n",
            "max_pooling2d_27 (MaxPooling (None, 28, 28, 128)       0         \n",
            "_________________________________________________________________\n",
            "flatten_11 (Flatten)         (None, 100352)            0         \n",
            "_________________________________________________________________\n",
            "dense_11 (Dense)             (None, 3)                 301059    \n",
            "=================================================================\n",
            "Total params: 590,755\n",
            "Trainable params: 589,859\n",
            "Non-trainable params: 896\n",
            "_________________________________________________________________\n"
          ],
          "name": "stdout"
        }
      ]
    },
    {
      "cell_type": "code",
      "metadata": {
        "id": "jhVTvnw0DK8g"
      },
      "source": [
        "train_path = '/content/gdrive/MyDrive/Journal_paper/Database/train'\r\n",
        "valid_path = '/content/gdrive/MyDrive/Journal_paper/Database/valid'\r\n",
        "test_path = '/content/gdrive/MyDrive/Journal_paper/Database/test'"
      ],
      "execution_count": 102,
      "outputs": []
    },
    {
      "cell_type": "code",
      "metadata": {
        "id": "WpFfLKz0Dc9z"
      },
      "source": [
        "# tell the model what cost and optimization method to use\r\n",
        "model4.compile(\r\n",
        "  loss='categorical_crossentropy',\r\n",
        "  optimizer='adam',\r\n",
        "  metrics=['accuracy']\r\n",
        ")"
      ],
      "execution_count": 103,
      "outputs": []
    },
    {
      "cell_type": "code",
      "metadata": {
        "colab": {
          "base_uri": "https://localhost:8080/"
        },
        "id": "1b-xq0NGDg-Q",
        "outputId": "c6a0b88a-1df2-49a3-d5ce-9663274f9a04"
      },
      "source": [
        "# Add our data-augmentation parameters to ImageDataGenerator\r\n",
        "train_datagen = ImageDataGenerator(rescale = 1./255,\r\n",
        "                                   shear_range = 0.2,\r\n",
        "                                   zoom_range = 0.2,\r\n",
        "                                   horizontal_flip = True)\r\n",
        "\r\n",
        "valid_datagen = ImageDataGenerator(rescale = 1./255)\r\n",
        "test_datagen = ImageDataGenerator(rescale = 1./255)\r\n",
        "\r\n",
        "# Flow training images in batches of 64 using train_datagen generator\r\n",
        "training_set = train_datagen.flow_from_directory(train_path,\r\n",
        "                                                 target_size = (224, 224),\r\n",
        "                                                 batch_size = 32,\r\n",
        "                                                 class_mode = 'categorical')\r\n",
        "\r\n",
        "valid_set = valid_datagen.flow_from_directory(valid_path,\r\n",
        "                                                 target_size = (224, 224),\r\n",
        "                                                 batch_size = 32,\r\n",
        "                                                 class_mode = 'categorical')\r\n",
        "\r\n",
        "test_set = test_datagen.flow_from_directory(test_path,\r\n",
        "                                            target_size = (224, 224),\r\n",
        "                                            batch_size = 32,\r\n",
        "                                            class_mode = 'categorical')"
      ],
      "execution_count": 104,
      "outputs": [
        {
          "output_type": "stream",
          "text": [
            "Found 840 images belonging to 3 classes.\n",
            "Found 180 images belonging to 3 classes.\n",
            "Found 180 images belonging to 3 classes.\n"
          ],
          "name": "stdout"
        }
      ]
    },
    {
      "cell_type": "code",
      "metadata": {
        "id": "KcdjUBHMDls8"
      },
      "source": [
        "# training\r\n",
        "batch_size = 32\r\n",
        "epochs = 50\r\n",
        "steps = len(training_set) // batch_size\r\n",
        "\r\n",
        "boundaries = [steps*15, steps*30]\r\n",
        "values = [0.0001, 0.00005, 0.00001]\r\n",
        "schedules = keras.optimizers.schedules.PiecewiseConstantDecay(boundaries, values)\r\n",
        "opt_adam  = keras.optimizers.Adam(learning_rate=schedules)"
      ],
      "execution_count": 105,
      "outputs": []
    },
    {
      "cell_type": "code",
      "metadata": {
        "colab": {
          "base_uri": "https://localhost:8080/"
        },
        "id": "aP5uC0sqDpc2",
        "outputId": "50cca6b5-e037-4474-baf3-ed7238f9315c"
      },
      "source": [
        "# fit the model\r\n",
        "tvt4 = model4.fit(\r\n",
        "  training_set,\r\n",
        "  validation_data=valid_set,\r\n",
        "  epochs=50,\r\n",
        "  steps_per_epoch=len(training_set),\r\n",
        "  validation_steps=len(valid_set)\r\n",
        ")"
      ],
      "execution_count": 106,
      "outputs": [
        {
          "output_type": "stream",
          "text": [
            "Epoch 1/50\n",
            "27/27 [==============================] - 21s 656ms/step - loss: 30.5277 - accuracy: 0.3695 - val_loss: 3.5762 - val_accuracy: 0.4778\n",
            "Epoch 2/50\n",
            "27/27 [==============================] - 18s 639ms/step - loss: 3.3085 - accuracy: 0.3611 - val_loss: 1.4879 - val_accuracy: 0.4278\n",
            "Epoch 3/50\n",
            "27/27 [==============================] - 17s 626ms/step - loss: 1.5116 - accuracy: 0.4350 - val_loss: 0.6086 - val_accuracy: 0.7722\n",
            "Epoch 4/50\n",
            "27/27 [==============================] - 17s 635ms/step - loss: 0.8759 - accuracy: 0.7223 - val_loss: 0.6171 - val_accuracy: 0.8611\n",
            "Epoch 5/50\n",
            "27/27 [==============================] - 17s 657ms/step - loss: 0.5475 - accuracy: 0.8658 - val_loss: 0.2586 - val_accuracy: 0.9611\n",
            "Epoch 6/50\n",
            "27/27 [==============================] - 18s 639ms/step - loss: 0.3202 - accuracy: 0.9321 - val_loss: 0.2524 - val_accuracy: 0.9667\n",
            "Epoch 7/50\n",
            "27/27 [==============================] - 18s 638ms/step - loss: 0.3326 - accuracy: 0.9238 - val_loss: 0.2542 - val_accuracy: 0.9667\n",
            "Epoch 8/50\n",
            "27/27 [==============================] - 17s 638ms/step - loss: 0.4310 - accuracy: 0.9144 - val_loss: 0.1642 - val_accuracy: 0.9889\n",
            "Epoch 9/50\n",
            "27/27 [==============================] - 17s 657ms/step - loss: 0.3000 - accuracy: 0.9534 - val_loss: 0.1750 - val_accuracy: 0.9889\n",
            "Epoch 10/50\n",
            "27/27 [==============================] - 18s 645ms/step - loss: 0.2669 - accuracy: 0.9555 - val_loss: 0.1584 - val_accuracy: 0.9944\n",
            "Epoch 11/50\n",
            "27/27 [==============================] - 18s 640ms/step - loss: 0.3615 - accuracy: 0.9032 - val_loss: 0.3093 - val_accuracy: 0.9500\n",
            "Epoch 12/50\n",
            "27/27 [==============================] - 17s 635ms/step - loss: 0.4016 - accuracy: 0.9277 - val_loss: 0.2327 - val_accuracy: 0.9667\n",
            "Epoch 13/50\n",
            "27/27 [==============================] - 18s 640ms/step - loss: 0.3573 - accuracy: 0.9311 - val_loss: 0.2075 - val_accuracy: 0.9778\n",
            "Epoch 14/50\n",
            "27/27 [==============================] - 17s 636ms/step - loss: 0.2543 - accuracy: 0.9609 - val_loss: 0.1459 - val_accuracy: 0.9944\n",
            "Epoch 15/50\n",
            "27/27 [==============================] - 17s 656ms/step - loss: 0.2236 - accuracy: 0.9707 - val_loss: 0.1933 - val_accuracy: 0.9889\n",
            "Epoch 16/50\n",
            "27/27 [==============================] - 18s 643ms/step - loss: 0.2496 - accuracy: 0.9610 - val_loss: 0.1470 - val_accuracy: 0.9944\n",
            "Epoch 17/50\n",
            "27/27 [==============================] - 17s 635ms/step - loss: 0.2101 - accuracy: 0.9707 - val_loss: 0.1365 - val_accuracy: 1.0000\n",
            "Epoch 18/50\n",
            "27/27 [==============================] - 18s 637ms/step - loss: 0.1996 - accuracy: 0.9777 - val_loss: 0.1462 - val_accuracy: 0.9889\n",
            "Epoch 19/50\n",
            "27/27 [==============================] - 17s 655ms/step - loss: 0.2807 - accuracy: 0.9598 - val_loss: 0.1984 - val_accuracy: 0.9833\n",
            "Epoch 20/50\n",
            "27/27 [==============================] - 17s 636ms/step - loss: 0.2404 - accuracy: 0.9729 - val_loss: 0.1992 - val_accuracy: 0.9833\n",
            "Epoch 21/50\n",
            "27/27 [==============================] - 17s 631ms/step - loss: 0.2637 - accuracy: 0.9638 - val_loss: 0.1498 - val_accuracy: 0.9889\n",
            "Epoch 22/50\n",
            "27/27 [==============================] - 17s 631ms/step - loss: 0.3421 - accuracy: 0.9423 - val_loss: 0.1403 - val_accuracy: 0.9944\n",
            "Epoch 23/50\n",
            "27/27 [==============================] - 18s 640ms/step - loss: 0.1982 - accuracy: 0.9749 - val_loss: 0.1384 - val_accuracy: 1.0000\n",
            "Epoch 24/50\n",
            "27/27 [==============================] - 17s 630ms/step - loss: 0.3094 - accuracy: 0.9618 - val_loss: 0.1694 - val_accuracy: 0.9944\n",
            "Epoch 25/50\n",
            "27/27 [==============================] - 17s 635ms/step - loss: 0.2382 - accuracy: 0.9779 - val_loss: 0.1971 - val_accuracy: 0.9778\n",
            "Epoch 26/50\n",
            "27/27 [==============================] - 17s 632ms/step - loss: 0.2048 - accuracy: 0.9790 - val_loss: 0.1566 - val_accuracy: 0.9944\n",
            "Epoch 27/50\n",
            "27/27 [==============================] - 17s 633ms/step - loss: 0.2833 - accuracy: 0.9586 - val_loss: 0.1442 - val_accuracy: 0.9944\n",
            "Epoch 28/50\n",
            "27/27 [==============================] - 18s 638ms/step - loss: 0.4910 - accuracy: 0.9358 - val_loss: 0.1725 - val_accuracy: 0.9944\n",
            "Epoch 29/50\n",
            "27/27 [==============================] - 17s 631ms/step - loss: 0.3199 - accuracy: 0.9696 - val_loss: 0.1802 - val_accuracy: 0.9889\n",
            "Epoch 30/50\n",
            "27/27 [==============================] - 18s 639ms/step - loss: 0.2823 - accuracy: 0.9672 - val_loss: 0.1348 - val_accuracy: 1.0000\n",
            "Epoch 31/50\n",
            "27/27 [==============================] - 17s 637ms/step - loss: 0.1763 - accuracy: 0.9860 - val_loss: 0.1465 - val_accuracy: 0.9944\n",
            "Epoch 32/50\n",
            "27/27 [==============================] - 17s 632ms/step - loss: 0.1508 - accuracy: 0.9933 - val_loss: 0.1334 - val_accuracy: 1.0000\n",
            "Epoch 33/50\n",
            "27/27 [==============================] - 18s 638ms/step - loss: 0.1706 - accuracy: 0.9907 - val_loss: 0.1350 - val_accuracy: 1.0000\n",
            "Epoch 34/50\n",
            "27/27 [==============================] - 17s 635ms/step - loss: 0.1645 - accuracy: 0.9892 - val_loss: 0.1673 - val_accuracy: 0.9944\n",
            "Epoch 35/50\n",
            "27/27 [==============================] - 18s 642ms/step - loss: 0.1706 - accuracy: 0.9902 - val_loss: 0.1707 - val_accuracy: 0.9833\n",
            "Epoch 36/50\n",
            "27/27 [==============================] - 17s 637ms/step - loss: 0.1715 - accuracy: 0.9911 - val_loss: 0.1340 - val_accuracy: 1.0000\n",
            "Epoch 37/50\n",
            "27/27 [==============================] - 18s 644ms/step - loss: 0.1620 - accuracy: 0.9914 - val_loss: 0.1413 - val_accuracy: 0.9944\n",
            "Epoch 38/50\n",
            "27/27 [==============================] - 18s 643ms/step - loss: 0.1861 - accuracy: 0.9886 - val_loss: 0.1341 - val_accuracy: 1.0000\n",
            "Epoch 39/50\n",
            "27/27 [==============================] - 17s 632ms/step - loss: 0.1727 - accuracy: 0.9889 - val_loss: 0.1325 - val_accuracy: 1.0000\n",
            "Epoch 40/50\n",
            "27/27 [==============================] - 18s 640ms/step - loss: 0.2247 - accuracy: 0.9830 - val_loss: 0.1324 - val_accuracy: 1.0000\n",
            "Epoch 41/50\n",
            "27/27 [==============================] - 17s 636ms/step - loss: 0.1995 - accuracy: 0.9864 - val_loss: 0.1316 - val_accuracy: 1.0000\n",
            "Epoch 42/50\n",
            "27/27 [==============================] - 17s 637ms/step - loss: 0.1469 - accuracy: 0.9960 - val_loss: 0.1316 - val_accuracy: 1.0000\n",
            "Epoch 43/50\n",
            "27/27 [==============================] - 18s 640ms/step - loss: 0.1355 - accuracy: 0.9983 - val_loss: 0.1310 - val_accuracy: 1.0000\n",
            "Epoch 44/50\n",
            "27/27 [==============================] - 17s 656ms/step - loss: 0.1325 - accuracy: 0.9998 - val_loss: 0.1340 - val_accuracy: 1.0000\n",
            "Epoch 45/50\n",
            "27/27 [==============================] - 18s 643ms/step - loss: 0.1412 - accuracy: 0.9970 - val_loss: 0.1313 - val_accuracy: 1.0000\n",
            "Epoch 46/50\n",
            "27/27 [==============================] - 17s 633ms/step - loss: 0.1408 - accuracy: 0.9935 - val_loss: 0.1302 - val_accuracy: 1.0000\n",
            "Epoch 47/50\n",
            "27/27 [==============================] - 17s 635ms/step - loss: 0.1302 - accuracy: 1.0000 - val_loss: 0.1311 - val_accuracy: 1.0000\n",
            "Epoch 48/50\n",
            "27/27 [==============================] - 17s 637ms/step - loss: 0.1303 - accuracy: 1.0000 - val_loss: 0.1304 - val_accuracy: 1.0000\n",
            "Epoch 49/50\n",
            "27/27 [==============================] - 17s 638ms/step - loss: 0.1305 - accuracy: 1.0000 - val_loss: 0.1317 - val_accuracy: 1.0000\n",
            "Epoch 50/50\n",
            "27/27 [==============================] - 17s 634ms/step - loss: 0.1311 - accuracy: 0.9998 - val_loss: 0.1414 - val_accuracy: 0.9944\n"
          ],
          "name": "stdout"
        }
      ]
    },
    {
      "cell_type": "code",
      "metadata": {
        "colab": {
          "base_uri": "https://localhost:8080/"
        },
        "id": "kf_hcl9HDvF6",
        "outputId": "45c40e54-bfa3-402d-e6cb-68c540346348"
      },
      "source": [
        "# testing\r\n",
        "score = model4.evaluate(test_set, verbose=0)\r\n",
        "print(f'Test loss: {score[0]:.4f}')\r\n",
        "print(f'Test accuracy: {score[1]:.4f}')"
      ],
      "execution_count": 107,
      "outputs": [
        {
          "output_type": "stream",
          "text": [
            "Test loss: 0.1289\n",
            "Test accuracy: 1.0000\n"
          ],
          "name": "stdout"
        }
      ]
    },
    {
      "cell_type": "code",
      "metadata": {
        "colab": {
          "base_uri": "https://localhost:8080/",
          "height": 295
        },
        "id": "xlGz5ldyD3v_",
        "outputId": "9d00dffc-c7b2-4cf0-fac0-f6e5ffdbe166"
      },
      "source": [
        "# loss\r\n",
        "fig, axes = plt.subplots(1, 1, figsize=(7, 4))\r\n",
        "plt.plot(tvt4.history['loss'], label='train loss')\r\n",
        "plt.plot(tvt4.history['val_loss'], label='val loss')\r\n",
        "plt.title(label = 'Loss', fontsize = 12, color = \"black\")\r\n",
        "plt.xlabel('Epoch')\r\n",
        "plt.ylabel('Loss')\r\n",
        "plt.legend()\r\n",
        "plt.show()\r\n",
        "fig.savefig('loss_model4')"
      ],
      "execution_count": 109,
      "outputs": [
        {
          "output_type": "display_data",
          "data": {
            "image/png": "[encoded data removed]",
            "text/plain": [
              "<Figure size 504x288 with 1 Axes>"
            ]
          },
          "metadata": {
            "tags": [],
            "needs_background": "light"
          }
        }
      ]
    },
    {
      "cell_type": "code",
      "metadata": {
        "colab": {
          "base_uri": "https://localhost:8080/",
          "height": 295
        },
        "id": "aJmtdXl0EB9S",
        "outputId": "480e2f56-337f-481e-ee72-8e6a95c9602b"
      },
      "source": [
        "# accuracy\r\n",
        "fig, axes = plt.subplots(1, 1, figsize=(7, 4))\r\n",
        "plt.plot(tvt4.history['accuracy'], label='train accuracy')\r\n",
        "plt.plot(tvt4.history['val_accuracy'], label='val accuracy')\r\n",
        "plt.title(label = 'Accuracy', fontsize = 12, color = \"black\")\r\n",
        "plt.xlabel('Epoch')\r\n",
        "plt.ylabel('Accuracy')\r\n",
        "plt.legend()\r\n",
        "plt.show()\r\n",
        "fig.savefig('acc_model4')"
      ],
      "execution_count": 111,
      "outputs": [
        {
          "output_type": "display_data",
          "data": {
            "image/png": "[encoded data removed]",
            "text/plain": [
              "<Figure size 504x288 with 1 Axes>"
            ]
          },
          "metadata": {
            "tags": [],
            "needs_background": "light"
          }
        }
      ]
    }
  ]
}